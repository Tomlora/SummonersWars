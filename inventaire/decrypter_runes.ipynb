{
 "cells": [
  {
   "cell_type": "code",
   "execution_count": 55,
   "id": "a2306407",
   "metadata": {
    "ExecuteTime": {
     "end_time": "2022-04-11T13:35:11.603567Z",
     "start_time": "2022-04-11T13:35:11.323824Z"
    }
   },
   "outputs": [],
   "source": [
    "import pandas as pd\n",
    "import json\n",
    "import plotly.express as px\n",
    "\n",
    "# fix plotly express et Visual Studio Code\n",
    "import plotly.io as pio\n",
    "pio.renderers.default = \"notebook_connected\"\n",
    "\n",
    "\n"
   ]
  },
  {
   "cell_type": "markdown",
   "id": "64ffc3d2",
   "metadata": {},
   "source": [
    "# Import data"
   ]
  },
  {
   "cell_type": "code",
   "execution_count": 56,
   "id": "b8712282",
   "metadata": {
    "ExecuteTime": {
     "end_time": "2022-04-11T13:35:11.607535Z",
     "start_time": "2022-04-11T13:35:11.604559Z"
    }
   },
   "outputs": [],
   "source": [
    "f = open('Tømløra-158491.json', encoding=\"utf8\")"
   ]
  },
  {
   "cell_type": "code",
   "execution_count": 57,
   "id": "481d9c20",
   "metadata": {
    "ExecuteTime": {
     "end_time": "2022-04-11T13:35:11.652175Z",
     "start_time": "2022-04-11T13:35:11.609023Z"
    }
   },
   "outputs": [],
   "source": [
    "data = json.load(f)"
   ]
  },
  {
   "cell_type": "markdown",
   "id": "2c14f4da",
   "metadata": {},
   "source": [
    "# Dataframe\n",
    "## Exploration"
   ]
  },
  {
   "cell_type": "code",
   "execution_count": 58,
   "id": "418115ac",
   "metadata": {
    "ExecuteTime": {
     "end_time": "2022-04-11T13:35:11.657135Z",
     "start_time": "2022-04-11T13:35:11.653168Z"
    }
   },
   "outputs": [],
   "source": [
    "df = pd.DataFrame.from_dict(data, orient='index')"
   ]
  },
  {
   "cell_type": "code",
   "execution_count": 59,
   "id": "73a0c74b",
   "metadata": {
    "ExecuteTime": {
     "end_time": "2022-04-11T13:35:11.704751Z",
     "start_time": "2022-04-11T13:35:11.658127Z"
    }
   },
   "outputs": [
    {
     "data": {
      "text/html": [
       "<div>\n",
       "<style scoped>\n",
       "    .dataframe tbody tr th:only-of-type {\n",
       "        vertical-align: middle;\n",
       "    }\n",
       "\n",
       "    .dataframe tbody tr th {\n",
       "        vertical-align: top;\n",
       "    }\n",
       "\n",
       "    .dataframe thead th {\n",
       "        text-align: right;\n",
       "    }\n",
       "</style>\n",
       "<table border=\"1\" class=\"dataframe\">\n",
       "  <thead>\n",
       "    <tr style=\"text-align: right;\">\n",
       "      <th></th>\n",
       "      <th>0</th>\n",
       "    </tr>\n",
       "  </thead>\n",
       "  <tbody>\n",
       "    <tr>\n",
       "      <th>command</th>\n",
       "      <td>HubUserLogin</td>\n",
       "    </tr>\n",
       "    <tr>\n",
       "      <th>ret_code</th>\n",
       "      <td>0</td>\n",
       "    </tr>\n",
       "    <tr>\n",
       "      <th>wizard_info</th>\n",
       "      <td>{'wizard_id': 158491, 'wizard_name': 'Tømløra'...</td>\n",
       "    </tr>\n",
       "    <tr>\n",
       "      <th>scenario_list</th>\n",
       "      <td>[{'region_id': 1, 'difficulty': 1, 'cleared': ...</td>\n",
       "    </tr>\n",
       "    <tr>\n",
       "      <th>defense_unit_list</th>\n",
       "      <td>[{'pos_id': 1, 'unit_id': 11259820848}, {'pos_...</td>\n",
       "    </tr>\n",
       "    <tr>\n",
       "      <th>...</th>\n",
       "      <td>...</td>\n",
       "    </tr>\n",
       "    <tr>\n",
       "      <th>tvaluelocal</th>\n",
       "      <td>1649482037</td>\n",
       "    </tr>\n",
       "    <tr>\n",
       "      <th>tzone</th>\n",
       "      <td>Europe/Berlin</td>\n",
       "    </tr>\n",
       "    <tr>\n",
       "      <th>server_id</th>\n",
       "      <td>6</td>\n",
       "    </tr>\n",
       "    <tr>\n",
       "      <th>server_endpoint</th>\n",
       "      <td>summonerswar-eu-lb</td>\n",
       "    </tr>\n",
       "    <tr>\n",
       "      <th>unit_storage_list</th>\n",
       "      <td>[{'unit_master_id': 10101, 'class': 3, 'quanti...</td>\n",
       "    </tr>\n",
       "  </tbody>\n",
       "</table>\n",
       "<p>139 rows × 1 columns</p>\n",
       "</div>"
      ],
      "text/plain": [
       "                                                                   0\n",
       "command                                                 HubUserLogin\n",
       "ret_code                                                           0\n",
       "wizard_info        {'wizard_id': 158491, 'wizard_name': 'Tømløra'...\n",
       "scenario_list      [{'region_id': 1, 'difficulty': 1, 'cleared': ...\n",
       "defense_unit_list  [{'pos_id': 1, 'unit_id': 11259820848}, {'pos_...\n",
       "...                                                              ...\n",
       "tvaluelocal                                               1649482037\n",
       "tzone                                                  Europe/Berlin\n",
       "server_id                                                          6\n",
       "server_endpoint                                   summonerswar-eu-lb\n",
       "unit_storage_list  [{'unit_master_id': 10101, 'class': 3, 'quanti...\n",
       "\n",
       "[139 rows x 1 columns]"
      ]
     },
     "execution_count": 59,
     "metadata": {},
     "output_type": "execute_result"
    }
   ],
   "source": [
    "df"
   ]
  },
  {
   "cell_type": "code",
   "execution_count": 60,
   "id": "39963b0d",
   "metadata": {
    "ExecuteTime": {
     "end_time": "2022-04-11T13:35:11.708719Z",
     "start_time": "2022-04-11T13:35:11.705743Z"
    }
   },
   "outputs": [],
   "source": [
    "df = df.transpose()"
   ]
  },
  {
   "cell_type": "code",
   "execution_count": 61,
   "id": "cb5bcf3f",
   "metadata": {
    "ExecuteTime": {
     "end_time": "2022-04-11T13:35:11.713679Z",
     "start_time": "2022-04-11T13:35:11.709711Z"
    }
   },
   "outputs": [
    {
     "name": "stdout",
     "output_type": "stream",
     "text": [
      "1 lignes et 139 colonnes\n"
     ]
    }
   ],
   "source": [
    "df.shape\n",
    "print(f'{df.shape[0]} lignes et {df.shape[1]} colonnes')"
   ]
  },
  {
   "cell_type": "code",
   "execution_count": 62,
   "id": "c3bf1b6d",
   "metadata": {
    "ExecuteTime": {
     "end_time": "2022-04-11T13:35:11.789071Z",
     "start_time": "2022-04-11T13:35:11.714671Z"
    }
   },
   "outputs": [
    {
     "data": {
      "text/html": [
       "<div>\n",
       "<style scoped>\n",
       "    .dataframe tbody tr th:only-of-type {\n",
       "        vertical-align: middle;\n",
       "    }\n",
       "\n",
       "    .dataframe tbody tr th {\n",
       "        vertical-align: top;\n",
       "    }\n",
       "\n",
       "    .dataframe thead th {\n",
       "        text-align: right;\n",
       "    }\n",
       "</style>\n",
       "<table border=\"1\" class=\"dataframe\">\n",
       "  <thead>\n",
       "    <tr style=\"text-align: right;\">\n",
       "      <th></th>\n",
       "      <th>command</th>\n",
       "      <th>ret_code</th>\n",
       "      <th>wizard_info</th>\n",
       "      <th>scenario_list</th>\n",
       "      <th>defense_unit_list</th>\n",
       "      <th>server_arena_defense_unit_list</th>\n",
       "      <th>quest_active</th>\n",
       "      <th>quest_rewarded</th>\n",
       "      <th>event_id_list</th>\n",
       "      <th>building_list</th>\n",
       "      <th>...</th>\n",
       "      <th>lobby_map_disable_list</th>\n",
       "      <th>tvaluelocal_next_monday</th>\n",
       "      <th>wizard_id</th>\n",
       "      <th>ts_val</th>\n",
       "      <th>tvalue</th>\n",
       "      <th>tvaluelocal</th>\n",
       "      <th>tzone</th>\n",
       "      <th>server_id</th>\n",
       "      <th>server_endpoint</th>\n",
       "      <th>unit_storage_list</th>\n",
       "    </tr>\n",
       "  </thead>\n",
       "  <tbody>\n",
       "    <tr>\n",
       "      <th>0</th>\n",
       "      <td>HubUserLogin</td>\n",
       "      <td>0</td>\n",
       "      <td>{'wizard_id': 158491, 'wizard_name': 'Tømløra'...</td>\n",
       "      <td>[{'region_id': 1, 'difficulty': 1, 'cleared': ...</td>\n",
       "      <td>[{'pos_id': 1, 'unit_id': 11259820848}, {'pos_...</td>\n",
       "      <td>[{'unit_id': 11259820848, 'pos_id': 1}, {'unit...</td>\n",
       "      <td>[{'quest_id': 45, 'is_completed': 0, 'conditio...</td>\n",
       "      <td>[2, 3, 4, 5, 6, 8, 10, 11, 12, 13, 14, 15, 16,...</td>\n",
       "      <td>[2, 3, 4, 5, 6, 8, 9, 10, 12, 13, 14, 15, 17, ...</td>\n",
       "      <td>[{'building_id': 2309392, 'wizard_id': 158491,...</td>\n",
       "      <td>...</td>\n",
       "      <td>[]</td>\n",
       "      <td>1649628000</td>\n",
       "      <td>158491</td>\n",
       "      <td>2122218797</td>\n",
       "      <td>1649507237</td>\n",
       "      <td>1649482037</td>\n",
       "      <td>Europe/Berlin</td>\n",
       "      <td>6</td>\n",
       "      <td>summonerswar-eu-lb</td>\n",
       "      <td>[{'unit_master_id': 10101, 'class': 3, 'quanti...</td>\n",
       "    </tr>\n",
       "  </tbody>\n",
       "</table>\n",
       "<p>1 rows × 139 columns</p>\n",
       "</div>"
      ],
      "text/plain": [
       "        command ret_code                                        wizard_info  \\\n",
       "0  HubUserLogin        0  {'wizard_id': 158491, 'wizard_name': 'Tømløra'...   \n",
       "\n",
       "                                       scenario_list  \\\n",
       "0  [{'region_id': 1, 'difficulty': 1, 'cleared': ...   \n",
       "\n",
       "                                   defense_unit_list  \\\n",
       "0  [{'pos_id': 1, 'unit_id': 11259820848}, {'pos_...   \n",
       "\n",
       "                      server_arena_defense_unit_list  \\\n",
       "0  [{'unit_id': 11259820848, 'pos_id': 1}, {'unit...   \n",
       "\n",
       "                                        quest_active  \\\n",
       "0  [{'quest_id': 45, 'is_completed': 0, 'conditio...   \n",
       "\n",
       "                                      quest_rewarded  \\\n",
       "0  [2, 3, 4, 5, 6, 8, 10, 11, 12, 13, 14, 15, 16,...   \n",
       "\n",
       "                                       event_id_list  \\\n",
       "0  [2, 3, 4, 5, 6, 8, 9, 10, 12, 13, 14, 15, 17, ...   \n",
       "\n",
       "                                       building_list  ...  \\\n",
       "0  [{'building_id': 2309392, 'wizard_id': 158491,...  ...   \n",
       "\n",
       "  lobby_map_disable_list tvaluelocal_next_monday wizard_id      ts_val  \\\n",
       "0                     []              1649628000    158491  2122218797   \n",
       "\n",
       "       tvalue tvaluelocal          tzone server_id     server_endpoint  \\\n",
       "0  1649507237  1649482037  Europe/Berlin         6  summonerswar-eu-lb   \n",
       "\n",
       "                                   unit_storage_list  \n",
       "0  [{'unit_master_id': 10101, 'class': 3, 'quanti...  \n",
       "\n",
       "[1 rows x 139 columns]"
      ]
     },
     "execution_count": 62,
     "metadata": {},
     "output_type": "execute_result"
    }
   ],
   "source": [
    "df"
   ]
  },
  {
   "cell_type": "markdown",
   "id": "44e67877",
   "metadata": {},
   "source": [
    "# Exploration colonnes restantes"
   ]
  },
  {
   "cell_type": "markdown",
   "id": "ab3b7821",
   "metadata": {},
   "source": [
    "{'craft_item_id': 144593998,\n",
    "  'wizard_id': 158491,\n",
    "  'craft_type': 2,\n",
    "  'craft_type_id': 150404,\n",
    "  'sell_value': 16000,\n",
    "  'amount': 37},\n",
    "  \n",
    "  Will heroique atk%\n",
    "  \n",
    "  15 = will\n",
    "  04 = hero\n",
    "  04 = atk%\n",
    "  \n",
    "   {'craft_item_id': 274591133,\n",
    "  'wizard_id': 158491,\n",
    "  'craft_type': 2,\n",
    "  'craft_type_id': 150204,\n",
    "  'sell_value': 16000,\n",
    "  'amount': 19},\n",
    "  \n",
    "  15 = will\n",
    "  02 = % hp\n",
    "  04 = heroique\n",
    "  \n",
    "   {'craft_item_id': 275119059,\n",
    "  'wizard_id': 158491,\n",
    "  'craft_type': 2,\n",
    "  'craft_type_id': 150604,\n",
    "  'sell_value': 16000,\n",
    "  'amount': 24},\n",
    "  \n",
    "  15 = will\n",
    "  06 = def %\n",
    "  04 = hero"
   ]
  },
  {
   "cell_type": "code",
   "execution_count": 63,
   "id": "91b2a68d",
   "metadata": {
    "ExecuteTime": {
     "end_time": "2022-04-11T13:35:13.810269Z",
     "start_time": "2022-04-11T13:35:13.807293Z"
    }
   },
   "outputs": [],
   "source": [
    "df_final = df['rune_craft_item_list'] #après gros nettoyage (cleané ici), la variable qui nous intéresse"
   ]
  },
  {
   "cell_type": "code",
   "execution_count": 64,
   "id": "401e494a",
   "metadata": {
    "ExecuteTime": {
     "end_time": "2022-04-11T13:35:13.815229Z",
     "start_time": "2022-04-11T13:35:13.811261Z"
    }
   },
   "outputs": [
    {
     "data": {
      "text/plain": [
       "{'craft_item_id': 4112939,\n",
       " 'wizard_id': 158491,\n",
       " 'craft_type': 1,\n",
       " 'craft_type_id': 31105,\n",
       " 'sell_value': 37000,\n",
       " 'amount': 2}"
      ]
     },
     "execution_count": 64,
     "metadata": {},
     "output_type": "execute_result"
    }
   ],
   "source": [
    "df_final[0][1]"
   ]
  },
  {
   "cell_type": "markdown",
   "id": "9ce465f5",
   "metadata": {
    "ExecuteTime": {
     "end_time": "2022-04-11T13:13:12.604624Z",
     "start_time": "2022-04-11T13:13:12.601152Z"
    }
   },
   "source": [
    "# craft_type"
   ]
  },
  {
   "cell_type": "code",
   "execution_count": 65,
   "id": "56a84e49",
   "metadata": {
    "ExecuteTime": {
     "end_time": "2022-04-11T13:35:13.819197Z",
     "start_time": "2022-04-11T13:35:13.816221Z"
    }
   },
   "outputs": [],
   "source": [
    "CRAFT_TYPE_MAP = {\n",
    "    1:'Enchant_gem',\n",
    "    2:'Grindstone',\n",
    "    3:'Gemme_immemoriale',\n",
    "    4:'Grindstone_immemoriale',\n",
    "    5:'Ancienne_gemme',\n",
    "    6:'Ancienne_grindstone',\n",
    "}\n"
   ]
  },
  {
   "cell_type": "markdown",
   "id": "b9390344",
   "metadata": {},
   "source": [
    "# Craft_type_id\n",
    "## Rune"
   ]
  },
  {
   "cell_type": "code",
   "execution_count": 66,
   "id": "b363bdd4",
   "metadata": {
    "ExecuteTime": {
     "end_time": "2022-04-11T13:35:13.824157Z",
     "start_time": "2022-04-11T13:35:13.820189Z"
    }
   },
   "outputs": [],
   "source": [
    "    COM2US_TYPE_MAP = {\n",
    "        1: 'TYPE_ENERGY',\n",
    "        2: 'TYPE_GUARD',\n",
    "        3: 'TYPE_SWIFT',\n",
    "        4: 'TYPE_BLADE',\n",
    "        5: 'TYPE_RAGE',\n",
    "        6: 'TYPE_FOCUS',\n",
    "        7: 'TYPE_ENDURE',\n",
    "        8: 'TYPE_FATAL',\n",
    "        10: 'TYPE_DESPAIR',\n",
    "        11: 'TYPE_VAMPIRE',\n",
    "        13: 'TYPE_VIOLENT',\n",
    "        14: 'TYPE_NEMESIS',\n",
    "        15: 'TYPE_WILL',\n",
    "        16: 'TYPE_SHIELD',\n",
    "        17: 'TYPE_REVENGE',\n",
    "        18: 'TYPE_DESTROY',\n",
    "        19: 'TYPE_FIGHT',\n",
    "        20: 'TYPE_DETERMINATION',\n",
    "        21: 'TYPE_ENHANCE',\n",
    "        22: 'TYPE_ACCURACY',\n",
    "        23: 'TYPE_TOLERANCE',\n",
    "        99: 'IMMEMORIALE'\n",
    "    }"
   ]
  },
  {
   "cell_type": "markdown",
   "id": "75d92c9e",
   "metadata": {},
   "source": [
    "## stat"
   ]
  },
  {
   "cell_type": "code",
   "execution_count": 67,
   "id": "3aee5bfb",
   "metadata": {
    "ExecuteTime": {
     "end_time": "2022-04-11T13:35:13.828125Z",
     "start_time": "2022-04-11T13:35:13.825149Z"
    }
   },
   "outputs": [],
   "source": [
    "    COM2US_STAT_MAP = {\n",
    "        1: 'STAT_HP',\n",
    "        2: 'STAT_HP_PCT',\n",
    "        3: 'STAT_ATK',\n",
    "        4: 'STAT_ATK_PCT',\n",
    "        5: 'STAT_DEF',\n",
    "        6: 'STAT_DEF_PCT',\n",
    "        8: 'STAT_SPD',\n",
    "        9: 'STAT_CRIT_RATE_PCT',\n",
    "        10: 'STAT_CRIT_DMG_PCT',\n",
    "        11: 'STAT_RESIST_PCT',\n",
    "        12: 'STAT_ACCURACY_PCT',\n",
    "    }"
   ]
  },
  {
   "cell_type": "markdown",
   "id": "3c203885",
   "metadata": {},
   "source": [
    "## quality"
   ]
  },
  {
   "cell_type": "code",
   "execution_count": 68,
   "id": "a1ab83e1",
   "metadata": {
    "ExecuteTime": {
     "end_time": "2022-04-11T13:35:13.832093Z",
     "start_time": "2022-04-11T13:35:13.829117Z"
    }
   },
   "outputs": [],
   "source": [
    "    COM2US_QUALITY_MAP = {\n",
    "        1: 'QUALITY_NORMAL',\n",
    "        2: 'QUALITY_MAGIC',\n",
    "        3: 'QUALITY_RARE',\n",
    "        4: 'QUALITY_HERO',\n",
    "        5: 'QUALITY_LEGEND',\n",
    "        # Original quality values\n",
    "        11: 'QUALITY_NORMAL',\n",
    "        12: 'QUALITY_MAGIC',\n",
    "        13: 'QUALITY_RARE',\n",
    "        14: 'QUALITY_HERO',\n",
    "        15: 'QUALITY_LEGEND',\n",
    "    }"
   ]
  },
  {
   "cell_type": "code",
   "execution_count": 69,
   "id": "c144e6e3",
   "metadata": {
    "ExecuteTime": {
     "end_time": "2022-04-11T13:35:13.855901Z",
     "start_time": "2022-04-11T13:35:13.852925Z"
    }
   },
   "outputs": [
    {
     "data": {
      "text/plain": [
       "503"
      ]
     },
     "execution_count": 69,
     "metadata": {},
     "output_type": "execute_result"
    }
   ],
   "source": [
    "nb_boucle = len(df_final[0])\n",
    "nb_boucle"
   ]
  },
  {
   "cell_type": "code",
   "execution_count": 70,
   "id": "93cb10ec",
   "metadata": {
    "ExecuteTime": {
     "end_time": "2022-04-11T13:35:13.867805Z",
     "start_time": "2022-04-11T13:35:13.856893Z"
    }
   },
   "outputs": [
    {
     "name": "stdout",
     "output_type": "stream",
     "text": [
      "Exemple découpage : item : 150814\n",
      " rune : 15\n",
      " stat : 8\n",
      " quality : 14\n"
     ]
    }
   ],
   "source": [
    "# on va map avec une boucle\n",
    "for i in range(0, nb_boucle):\n",
    "    objet = str(df_final[0][i]['craft_type_id'])\n",
    "    nb_chiffre = len(objet)\n",
    "        \n",
    "    type = int(df_final[0][i]['craft_type'])\n",
    "    rune = int(objet[:nb_chiffre-4])\n",
    "    stat = int(objet[nb_chiffre-4:nb_chiffre-2])\n",
    "    quality = int(objet[nb_chiffre-2:nb_chiffre])\n",
    "    \n",
    "    df_final[0][i]['type'] = CRAFT_TYPE_MAP[type]\n",
    "    df_final[0][i]['rune'] = COM2US_TYPE_MAP[rune]\n",
    "    df_final[0][i]['stat'] = COM2US_STAT_MAP[stat]\n",
    "    df_final[0][i]['quality'] = COM2US_QUALITY_MAP[quality]\n",
    "    \n",
    "    \n",
    "print(\"Exemple découpage : item : \" + str(objet) + \"\\n rune : \" + str(rune) + \"\\n stat : \" + str(stat) + \"\\n quality : \" + str(quality))\n",
    "    "
   ]
  },
  {
   "cell_type": "code",
   "execution_count": 71,
   "id": "104bae6c",
   "metadata": {
    "ExecuteTime": {
     "end_time": "2022-04-11T13:35:13.873758Z",
     "start_time": "2022-04-11T13:35:13.869294Z"
    }
   },
   "outputs": [
    {
     "data": {
      "text/plain": [
       "{'craft_item_id': 4112939,\n",
       " 'wizard_id': 158491,\n",
       " 'craft_type': 1,\n",
       " 'craft_type_id': 31105,\n",
       " 'sell_value': 37000,\n",
       " 'amount': 2,\n",
       " 'type': 'Enchant_gem',\n",
       " 'rune': 'TYPE_SWIFT',\n",
       " 'stat': 'STAT_RESIST_PCT',\n",
       " 'quality': 'QUALITY_LEGEND'}"
      ]
     },
     "execution_count": 71,
     "metadata": {},
     "output_type": "execute_result"
    }
   ],
   "source": [
    "df_final[0][1]"
   ]
  },
  {
   "cell_type": "code",
   "execution_count": 72,
   "id": "94de7aad",
   "metadata": {},
   "outputs": [
    {
     "data": {
      "text/html": [
       "<div>\n",
       "<style scoped>\n",
       "    .dataframe tbody tr th:only-of-type {\n",
       "        vertical-align: middle;\n",
       "    }\n",
       "\n",
       "    .dataframe tbody tr th {\n",
       "        vertical-align: top;\n",
       "    }\n",
       "\n",
       "    .dataframe thead th {\n",
       "        text-align: right;\n",
       "    }\n",
       "</style>\n",
       "<table border=\"1\" class=\"dataframe\">\n",
       "  <thead>\n",
       "    <tr style=\"text-align: right;\">\n",
       "      <th></th>\n",
       "      <th>rune_craft_item_list</th>\n",
       "    </tr>\n",
       "  </thead>\n",
       "  <tbody>\n",
       "    <tr>\n",
       "      <th>0</th>\n",
       "      <td>[{'craft_item_id': 4112928, 'wizard_id': 15849...</td>\n",
       "    </tr>\n",
       "  </tbody>\n",
       "</table>\n",
       "</div>"
      ],
      "text/plain": [
       "                                rune_craft_item_list\n",
       "0  [{'craft_item_id': 4112928, 'wizard_id': 15849..."
      ]
     },
     "execution_count": 72,
     "metadata": {},
     "output_type": "execute_result"
    }
   ],
   "source": [
    "df = pd.DataFrame(df_final)\n",
    "df"
   ]
  },
  {
   "cell_type": "code",
   "execution_count": 73,
   "id": "f8167323",
   "metadata": {},
   "outputs": [],
   "source": [
    "import ast\n",
    "def extraire_variables_imbriquees(df, colonne):\n",
    "    df[colonne] = [ast.literal_eval(str(item)) for index, item in df[colonne].iteritems()]\n",
    "\n",
    "    df = pd.concat([df.drop([colonne], axis=1), df[colonne].apply(pd.Series)], axis=1)\n",
    "    return df"
   ]
  },
  {
   "cell_type": "code",
   "execution_count": 74,
   "id": "266ac7c0",
   "metadata": {},
   "outputs": [],
   "source": [
    "df = extraire_variables_imbriquees(df,'rune_craft_item_list') #découpe le dictionnaire imbriqué en un dict = une variable"
   ]
  },
  {
   "cell_type": "code",
   "execution_count": 75,
   "id": "d8ee035e",
   "metadata": {},
   "outputs": [],
   "source": [
    "# on refait pour sortir toutes les variables de chaque dict.... et on concatène pour n'avoir qu'un seul dataframe\n",
    "df_combine = extraire_variables_imbriquees(df,0)\n",
    "df_combine = df_combine[['craft_item_id', 'wizard_id', 'craft_type', 'craft_type_id', 'sell_value', 'amount' ,'type', 'rune', 'stat', 'quality']]\n",
    "for i in range(1, len(df.columns)):\n",
    "    df_combine2 = extraire_variables_imbriquees(df, i)\n",
    "    df_combine2 = df_combine2[['craft_item_id', 'wizard_id', 'craft_type', 'craft_type_id', 'sell_value', 'amount' ,'type', 'rune', 'stat', 'quality']]\n",
    "    df_combine = pd.concat([df_combine,df_combine2])\n"
   ]
  },
  {
   "cell_type": "code",
   "execution_count": 76,
   "id": "39a34900",
   "metadata": {},
   "outputs": [
    {
     "data": {
      "text/html": [
       "<div>\n",
       "<style scoped>\n",
       "    .dataframe tbody tr th:only-of-type {\n",
       "        vertical-align: middle;\n",
       "    }\n",
       "\n",
       "    .dataframe tbody tr th {\n",
       "        vertical-align: top;\n",
       "    }\n",
       "\n",
       "    .dataframe thead th {\n",
       "        text-align: right;\n",
       "    }\n",
       "</style>\n",
       "<table border=\"1\" class=\"dataframe\">\n",
       "  <thead>\n",
       "    <tr style=\"text-align: right;\">\n",
       "      <th></th>\n",
       "      <th>craft_item_id</th>\n",
       "      <th>wizard_id</th>\n",
       "      <th>craft_type</th>\n",
       "      <th>craft_type_id</th>\n",
       "      <th>sell_value</th>\n",
       "      <th>amount</th>\n",
       "      <th>type</th>\n",
       "      <th>rune</th>\n",
       "      <th>stat</th>\n",
       "      <th>quality</th>\n",
       "    </tr>\n",
       "  </thead>\n",
       "  <tbody>\n",
       "    <tr>\n",
       "      <th>0</th>\n",
       "      <td>4112928</td>\n",
       "      <td>158491</td>\n",
       "      <td>1</td>\n",
       "      <td>11204</td>\n",
       "      <td>30000</td>\n",
       "      <td>3</td>\n",
       "      <td>Enchant_gem</td>\n",
       "      <td>TYPE_ENERGY</td>\n",
       "      <td>STAT_ACCURACY_PCT</td>\n",
       "      <td>QUALITY_HERO</td>\n",
       "    </tr>\n",
       "    <tr>\n",
       "      <th>0</th>\n",
       "      <td>4112939</td>\n",
       "      <td>158491</td>\n",
       "      <td>1</td>\n",
       "      <td>31105</td>\n",
       "      <td>37000</td>\n",
       "      <td>2</td>\n",
       "      <td>Enchant_gem</td>\n",
       "      <td>TYPE_SWIFT</td>\n",
       "      <td>STAT_RESIST_PCT</td>\n",
       "      <td>QUALITY_LEGEND</td>\n",
       "    </tr>\n",
       "    <tr>\n",
       "      <th>0</th>\n",
       "      <td>4112942</td>\n",
       "      <td>158491</td>\n",
       "      <td>1</td>\n",
       "      <td>40604</td>\n",
       "      <td>30000</td>\n",
       "      <td>6</td>\n",
       "      <td>Enchant_gem</td>\n",
       "      <td>TYPE_BLADE</td>\n",
       "      <td>STAT_DEF_PCT</td>\n",
       "      <td>QUALITY_HERO</td>\n",
       "    </tr>\n",
       "    <tr>\n",
       "      <th>0</th>\n",
       "      <td>4112955</td>\n",
       "      <td>158491</td>\n",
       "      <td>1</td>\n",
       "      <td>70804</td>\n",
       "      <td>30000</td>\n",
       "      <td>5</td>\n",
       "      <td>Enchant_gem</td>\n",
       "      <td>TYPE_ENDURE</td>\n",
       "      <td>STAT_SPD</td>\n",
       "      <td>QUALITY_HERO</td>\n",
       "    </tr>\n",
       "    <tr>\n",
       "      <th>0</th>\n",
       "      <td>4112969</td>\n",
       "      <td>158491</td>\n",
       "      <td>1</td>\n",
       "      <td>101204</td>\n",
       "      <td>30000</td>\n",
       "      <td>6</td>\n",
       "      <td>Enchant_gem</td>\n",
       "      <td>TYPE_DESPAIR</td>\n",
       "      <td>STAT_ACCURACY_PCT</td>\n",
       "      <td>QUALITY_HERO</td>\n",
       "    </tr>\n",
       "    <tr>\n",
       "      <th>...</th>\n",
       "      <td>...</td>\n",
       "      <td>...</td>\n",
       "      <td>...</td>\n",
       "      <td>...</td>\n",
       "      <td>...</td>\n",
       "      <td>...</td>\n",
       "      <td>...</td>\n",
       "      <td>...</td>\n",
       "      <td>...</td>\n",
       "      <td>...</td>\n",
       "    </tr>\n",
       "    <tr>\n",
       "      <th>0</th>\n",
       "      <td>325714194</td>\n",
       "      <td>158491</td>\n",
       "      <td>6</td>\n",
       "      <td>180814</td>\n",
       "      <td>19200</td>\n",
       "      <td>4</td>\n",
       "      <td>Ancienne_grindstone</td>\n",
       "      <td>TYPE_DESTROY</td>\n",
       "      <td>STAT_SPD</td>\n",
       "      <td>QUALITY_HERO</td>\n",
       "    </tr>\n",
       "    <tr>\n",
       "      <th>0</th>\n",
       "      <td>334292589</td>\n",
       "      <td>158491</td>\n",
       "      <td>6</td>\n",
       "      <td>20115</td>\n",
       "      <td>27600</td>\n",
       "      <td>1</td>\n",
       "      <td>Ancienne_grindstone</td>\n",
       "      <td>TYPE_GUARD</td>\n",
       "      <td>STAT_HP</td>\n",
       "      <td>QUALITY_LEGEND</td>\n",
       "    </tr>\n",
       "    <tr>\n",
       "      <th>0</th>\n",
       "      <td>343007741</td>\n",
       "      <td>158491</td>\n",
       "      <td>6</td>\n",
       "      <td>150614</td>\n",
       "      <td>19200</td>\n",
       "      <td>2</td>\n",
       "      <td>Ancienne_grindstone</td>\n",
       "      <td>TYPE_WILL</td>\n",
       "      <td>STAT_DEF_PCT</td>\n",
       "      <td>QUALITY_HERO</td>\n",
       "    </tr>\n",
       "    <tr>\n",
       "      <th>0</th>\n",
       "      <td>350683564</td>\n",
       "      <td>158491</td>\n",
       "      <td>6</td>\n",
       "      <td>110414</td>\n",
       "      <td>19200</td>\n",
       "      <td>1</td>\n",
       "      <td>Ancienne_grindstone</td>\n",
       "      <td>TYPE_VAMPIRE</td>\n",
       "      <td>STAT_ATK_PCT</td>\n",
       "      <td>QUALITY_HERO</td>\n",
       "    </tr>\n",
       "    <tr>\n",
       "      <th>0</th>\n",
       "      <td>351328717</td>\n",
       "      <td>158491</td>\n",
       "      <td>6</td>\n",
       "      <td>150814</td>\n",
       "      <td>19200</td>\n",
       "      <td>1</td>\n",
       "      <td>Ancienne_grindstone</td>\n",
       "      <td>TYPE_WILL</td>\n",
       "      <td>STAT_SPD</td>\n",
       "      <td>QUALITY_HERO</td>\n",
       "    </tr>\n",
       "  </tbody>\n",
       "</table>\n",
       "<p>503 rows × 10 columns</p>\n",
       "</div>"
      ],
      "text/plain": [
       "    craft_item_id  wizard_id  craft_type  craft_type_id  sell_value  amount  \\\n",
       "0         4112928     158491           1          11204       30000       3   \n",
       "0         4112939     158491           1          31105       37000       2   \n",
       "0         4112942     158491           1          40604       30000       6   \n",
       "0         4112955     158491           1          70804       30000       5   \n",
       "0         4112969     158491           1         101204       30000       6   \n",
       "..            ...        ...         ...            ...         ...     ...   \n",
       "0       325714194     158491           6         180814       19200       4   \n",
       "0       334292589     158491           6          20115       27600       1   \n",
       "0       343007741     158491           6         150614       19200       2   \n",
       "0       350683564     158491           6         110414       19200       1   \n",
       "0       351328717     158491           6         150814       19200       1   \n",
       "\n",
       "                   type          rune               stat         quality  \n",
       "0           Enchant_gem   TYPE_ENERGY  STAT_ACCURACY_PCT    QUALITY_HERO  \n",
       "0           Enchant_gem    TYPE_SWIFT    STAT_RESIST_PCT  QUALITY_LEGEND  \n",
       "0           Enchant_gem    TYPE_BLADE       STAT_DEF_PCT    QUALITY_HERO  \n",
       "0           Enchant_gem   TYPE_ENDURE           STAT_SPD    QUALITY_HERO  \n",
       "0           Enchant_gem  TYPE_DESPAIR  STAT_ACCURACY_PCT    QUALITY_HERO  \n",
       "..                  ...           ...                ...             ...  \n",
       "0   Ancienne_grindstone  TYPE_DESTROY           STAT_SPD    QUALITY_HERO  \n",
       "0   Ancienne_grindstone    TYPE_GUARD            STAT_HP  QUALITY_LEGEND  \n",
       "0   Ancienne_grindstone     TYPE_WILL       STAT_DEF_PCT    QUALITY_HERO  \n",
       "0   Ancienne_grindstone  TYPE_VAMPIRE       STAT_ATK_PCT    QUALITY_HERO  \n",
       "0   Ancienne_grindstone     TYPE_WILL           STAT_SPD    QUALITY_HERO  \n",
       "\n",
       "[503 rows x 10 columns]"
      ]
     },
     "execution_count": 76,
     "metadata": {},
     "output_type": "execute_result"
    }
   ],
   "source": [
    "df_combine"
   ]
  },
  {
   "cell_type": "code",
   "execution_count": 77,
   "id": "c790133d",
   "metadata": {},
   "outputs": [
    {
     "data": {
      "text/html": [
       "        <script type=\"text/javascript\">\n",
       "        window.PlotlyConfig = {MathJaxConfig: 'local'};\n",
       "        if (window.MathJax) {MathJax.Hub.Config({SVG: {font: \"STIX-Web\"}});}\n",
       "        if (typeof require !== 'undefined') {\n",
       "        require.undef(\"plotly\");\n",
       "        requirejs.config({\n",
       "            paths: {\n",
       "                'plotly': ['https://cdn.plot.ly/plotly-2.11.1.min']\n",
       "            }\n",
       "        });\n",
       "        require(['plotly'], function(Plotly) {\n",
       "            window._Plotly = Plotly;\n",
       "        });\n",
       "        }\n",
       "        </script>\n",
       "        "
      ]
     },
     "metadata": {},
     "output_type": "display_data"
    },
    {
     "data": {
      "text/html": [
       "<div>                            <div id=\"ad7225ca-6f7c-47a3-8e57-2736ef825546\" class=\"plotly-graph-div\" style=\"height:525px; width:100%;\"></div>            <script type=\"text/javascript\">                require([\"plotly\"], function(Plotly) {                    window.PLOTLYENV=window.PLOTLYENV || {};                                    if (document.getElementById(\"ad7225ca-6f7c-47a3-8e57-2736ef825546\")) {                    Plotly.newPlot(                        \"ad7225ca-6f7c-47a3-8e57-2736ef825546\",                        [{\"alignmentgroup\":\"True\",\"bingroup\":\"x\",\"histfunc\":\"sum\",\"hovertemplate\":\"rune=%{x}<br>sum of amount=%{y}<extra></extra>\",\"legendgroup\":\"\",\"marker\":{\"color\":\"#636efa\",\"pattern\":{\"shape\":\"\"}},\"name\":\"\",\"offsetgroup\":\"\",\"orientation\":\"v\",\"showlegend\":false,\"texttemplate\":\"%{value}\",\"x\":[\"TYPE_ENERGY\",\"TYPE_SWIFT\",\"TYPE_BLADE\",\"TYPE_ENDURE\",\"TYPE_DESPAIR\",\"TYPE_VAMPIRE\",\"TYPE_VAMPIRE\",\"TYPE_REVENGE\",\"TYPE_SWIFT\",\"TYPE_FOCUS\",\"TYPE_TOLERANCE\",\"TYPE_TOLERANCE\",\"TYPE_ENERGY\",\"TYPE_GUARD\",\"TYPE_NEMESIS\",\"TYPE_ACCURACY\",\"TYPE_TOLERANCE\",\"TYPE_FOCUS\",\"TYPE_RAGE\",\"TYPE_DESTROY\",\"TYPE_TOLERANCE\",\"TYPE_ACCURACY\",\"TYPE_TOLERANCE\",\"TYPE_ENHANCE\",\"TYPE_ACCURACY\",\"TYPE_TOLERANCE\",\"TYPE_ENERGY\",\"TYPE_RAGE\",\"TYPE_VAMPIRE\",\"TYPE_ENERGY\",\"TYPE_FOCUS\",\"TYPE_WILL\",\"TYPE_VAMPIRE\",\"TYPE_FOCUS\",\"TYPE_DESTROY\",\"TYPE_BLADE\",\"TYPE_VAMPIRE\",\"TYPE_WILL\",\"TYPE_DESPAIR\",\"TYPE_DETERMINATION\",\"TYPE_ENDURE\",\"TYPE_SHIELD\",\"TYPE_ACCURACY\",\"TYPE_ACCURACY\",\"TYPE_SHIELD\",\"TYPE_DETERMINATION\",\"TYPE_DESTROY\",\"TYPE_FOCUS\",\"TYPE_RAGE\",\"TYPE_ENDURE\",\"TYPE_FOCUS\",\"TYPE_NEMESIS\",\"TYPE_ENERGY\",\"TYPE_ENERGY\",\"TYPE_REVENGE\",\"TYPE_FOCUS\",\"TYPE_VAMPIRE\",\"TYPE_RAGE\",\"TYPE_ENDURE\",\"TYPE_FOCUS\",\"TYPE_ENHANCE\",\"TYPE_FIGHT\",\"TYPE_BLADE\",\"TYPE_DESPAIR\",\"TYPE_TOLERANCE\",\"TYPE_ACCURACY\",\"TYPE_REVENGE\",\"TYPE_FOCUS\",\"TYPE_TOLERANCE\",\"TYPE_DESPAIR\",\"TYPE_FIGHT\",\"TYPE_REVENGE\",\"TYPE_FATAL\",\"TYPE_GUARD\",\"TYPE_BLADE\",\"TYPE_ENDURE\",\"TYPE_ENDURE\",\"TYPE_DESTROY\",\"TYPE_SHIELD\",\"TYPE_ENERGY\",\"TYPE_BLADE\",\"TYPE_NEMESIS\",\"TYPE_RAGE\",\"TYPE_GUARD\",\"TYPE_ENERGY\",\"TYPE_VAMPIRE\",\"TYPE_RAGE\",\"TYPE_VIOLENT\",\"TYPE_BLADE\",\"TYPE_ENERGY\",\"TYPE_GUARD\",\"TYPE_GUARD\",\"TYPE_DESPAIR\",\"TYPE_DESTROY\",\"TYPE_SHIELD\",\"TYPE_VAMPIRE\",\"TYPE_RAGE\",\"TYPE_DESPAIR\",\"TYPE_FIGHT\",\"TYPE_NEMESIS\",\"TYPE_SHIELD\",\"TYPE_REVENGE\",\"TYPE_NEMESIS\",\"TYPE_BLADE\",\"TYPE_ENDURE\",\"TYPE_REVENGE\",\"TYPE_SHIELD\",\"TYPE_ENHANCE\",\"TYPE_RAGE\",\"TYPE_BLADE\",\"TYPE_FATAL\",\"TYPE_WILL\",\"TYPE_ENDURE\",\"TYPE_FATAL\",\"TYPE_ENDURE\",\"TYPE_REVENGE\",\"TYPE_RAGE\",\"TYPE_FATAL\",\"TYPE_DESPAIR\",\"TYPE_VAMPIRE\",\"TYPE_FATAL\",\"TYPE_DESTROY\",\"TYPE_NEMESIS\",\"TYPE_FOCUS\",\"TYPE_SWIFT\",\"TYPE_FOCUS\",\"TYPE_DESTROY\",\"TYPE_DESTROY\",\"TYPE_WILL\",\"TYPE_GUARD\",\"TYPE_FOCUS\",\"TYPE_DESTROY\",\"TYPE_BLADE\",\"TYPE_VAMPIRE\",\"TYPE_NEMESIS\",\"TYPE_WILL\",\"TYPE_ENDURE\",\"TYPE_FATAL\",\"TYPE_FATAL\",\"TYPE_SHIELD\",\"TYPE_ENERGY\",\"TYPE_DETERMINATION\",\"TYPE_DESPAIR\",\"TYPE_RAGE\",\"TYPE_GUARD\",\"TYPE_GUARD\",\"TYPE_DESTROY\",\"TYPE_VAMPIRE\",\"TYPE_BLADE\",\"TYPE_WILL\",\"TYPE_NEMESIS\",\"TYPE_NEMESIS\",\"TYPE_REVENGE\",\"TYPE_RAGE\",\"TYPE_ENDURE\",\"TYPE_GUARD\",\"TYPE_WILL\",\"TYPE_FATAL\",\"TYPE_FATAL\",\"TYPE_ENERGY\",\"TYPE_RAGE\",\"TYPE_REVENGE\",\"TYPE_VAMPIRE\",\"TYPE_VAMPIRE\",\"TYPE_SWIFT\",\"TYPE_NEMESIS\",\"TYPE_SWIFT\",\"TYPE_REVENGE\",\"TYPE_FOCUS\",\"TYPE_GUARD\",\"TYPE_GUARD\",\"TYPE_RAGE\",\"TYPE_VIOLENT\",\"TYPE_DESPAIR\",\"TYPE_FATAL\",\"TYPE_BLADE\",\"TYPE_GUARD\",\"TYPE_NEMESIS\",\"TYPE_SWIFT\",\"TYPE_FOCUS\",\"TYPE_WILL\",\"TYPE_SHIELD\",\"TYPE_DESPAIR\",\"TYPE_VIOLENT\",\"TYPE_DESPAIR\",\"TYPE_REVENGE\",\"TYPE_ENERGY\",\"TYPE_DESTROY\",\"TYPE_WILL\",\"TYPE_ENDURE\",\"TYPE_ENERGY\",\"TYPE_FATAL\",\"TYPE_DETERMINATION\",\"TYPE_FATAL\",\"TYPE_SWIFT\",\"TYPE_SWIFT\",\"TYPE_BLADE\",\"TYPE_WILL\",\"TYPE_ENERGY\",\"TYPE_SWIFT\",\"TYPE_BLADE\",\"TYPE_FOCUS\",\"TYPE_RAGE\",\"TYPE_DESPAIR\",\"TYPE_SHIELD\",\"TYPE_GUARD\",\"TYPE_FATAL\",\"TYPE_VAMPIRE\",\"TYPE_ACCURACY\",\"TYPE_FIGHT\",\"TYPE_VIOLENT\",\"TYPE_ENHANCE\",\"TYPE_FATAL\",\"TYPE_VIOLENT\",\"TYPE_NEMESIS\",\"TYPE_WILL\",\"TYPE_ACCURACY\",\"TYPE_SWIFT\",\"TYPE_VIOLENT\",\"TYPE_ENERGY\",\"TYPE_ENDURE\",\"TYPE_VIOLENT\",\"TYPE_SWIFT\",\"TYPE_SHIELD\",\"TYPE_GUARD\",\"TYPE_VAMPIRE\",\"TYPE_TOLERANCE\",\"TYPE_TOLERANCE\",\"TYPE_ENHANCE\",\"TYPE_ACCURACY\",\"TYPE_BLADE\",\"TYPE_ENHANCE\",\"TYPE_TOLERANCE\",\"TYPE_VAMPIRE\",\"TYPE_ENERGY\",\"TYPE_ACCURACY\",\"TYPE_ENHANCE\",\"TYPE_FIGHT\",\"TYPE_DETERMINATION\",\"TYPE_ENHANCE\",\"TYPE_ENHANCE\",\"TYPE_TOLERANCE\",\"TYPE_NEMESIS\",\"TYPE_TOLERANCE\",\"TYPE_DETERMINATION\",\"TYPE_DETERMINATION\",\"TYPE_ACCURACY\",\"TYPE_ACCURACY\",\"TYPE_ACCURACY\",\"TYPE_FIGHT\",\"TYPE_GUARD\",\"TYPE_FOCUS\",\"TYPE_GUARD\",\"TYPE_RAGE\",\"TYPE_FATAL\",\"TYPE_NEMESIS\",\"TYPE_ENDURE\",\"TYPE_ENDURE\",\"TYPE_VAMPIRE\",\"TYPE_RAGE\",\"TYPE_DESPAIR\",\"TYPE_REVENGE\",\"TYPE_BLADE\",\"TYPE_FOCUS\",\"TYPE_WILL\",\"TYPE_DESTROY\",\"TYPE_ENDURE\",\"TYPE_WILL\",\"TYPE_BLADE\",\"TYPE_ENHANCE\",\"TYPE_GUARD\",\"TYPE_NEMESIS\",\"TYPE_ENERGY\",\"TYPE_FIGHT\",\"TYPE_ACCURACY\",\"TYPE_SWIFT\",\"TYPE_DESTROY\",\"TYPE_ENDURE\",\"TYPE_DESPAIR\",\"TYPE_SHIELD\",\"TYPE_RAGE\",\"TYPE_SWIFT\",\"TYPE_TOLERANCE\",\"TYPE_DESPAIR\",\"TYPE_SWIFT\",\"TYPE_SWIFT\",\"TYPE_RAGE\",\"TYPE_RAGE\",\"TYPE_GUARD\",\"TYPE_BLADE\",\"TYPE_BLADE\",\"TYPE_REVENGE\",\"TYPE_ENDURE\",\"TYPE_FIGHT\",\"TYPE_GUARD\",\"TYPE_FATAL\",\"TYPE_FATAL\",\"TYPE_RAGE\",\"TYPE_NEMESIS\",\"TYPE_FOCUS\",\"TYPE_NEMESIS\",\"TYPE_BLADE\",\"TYPE_NEMESIS\",\"TYPE_BLADE\",\"TYPE_ENERGY\",\"TYPE_SHIELD\",\"TYPE_VAMPIRE\",\"TYPE_BLADE\",\"TYPE_ENERGY\",\"TYPE_BLADE\",\"TYPE_NEMESIS\",\"TYPE_DESPAIR\",\"TYPE_WILL\",\"TYPE_REVENGE\",\"TYPE_VIOLENT\",\"TYPE_ENDURE\",\"TYPE_ENDURE\",\"TYPE_VIOLENT\",\"TYPE_WILL\",\"TYPE_ENERGY\",\"TYPE_BLADE\",\"TYPE_ENDURE\",\"TYPE_VIOLENT\",\"TYPE_VIOLENT\",\"TYPE_DETERMINATION\",\"TYPE_FATAL\",\"TYPE_GUARD\",\"TYPE_ENERGY\",\"TYPE_WILL\",\"TYPE_DESPAIR\",\"TYPE_DESTROY\",\"TYPE_RAGE\",\"TYPE_VIOLENT\",\"TYPE_DESTROY\",\"TYPE_ENERGY\",\"TYPE_DESPAIR\",\"TYPE_DESPAIR\",\"TYPE_ENDURE\",\"TYPE_VIOLENT\",\"TYPE_VAMPIRE\",\"TYPE_NEMESIS\",\"TYPE_FIGHT\",\"TYPE_GUARD\",\"TYPE_REVENGE\",\"TYPE_ENERGY\",\"TYPE_FIGHT\",\"TYPE_GUARD\",\"TYPE_ENDURE\",\"TYPE_FATAL\",\"TYPE_SHIELD\",\"TYPE_NEMESIS\",\"TYPE_DESTROY\",\"TYPE_DESTROY\",\"TYPE_ENDURE\",\"TYPE_WILL\",\"TYPE_DESTROY\",\"TYPE_SHIELD\",\"TYPE_VAMPIRE\",\"TYPE_SHIELD\",\"TYPE_ENHANCE\",\"TYPE_DESTROY\",\"TYPE_DESTROY\",\"TYPE_GUARD\",\"TYPE_BLADE\",\"TYPE_FOCUS\",\"TYPE_RAGE\",\"TYPE_SWIFT\",\"TYPE_FOCUS\",\"TYPE_ENDURE\",\"TYPE_RAGE\",\"TYPE_FOCUS\",\"TYPE_WILL\",\"TYPE_RAGE\",\"TYPE_SWIFT\",\"TYPE_ENHANCE\",\"TYPE_SHIELD\",\"TYPE_VIOLENT\",\"TYPE_SWIFT\",\"TYPE_VIOLENT\",\"TYPE_REVENGE\",\"TYPE_RAGE\",\"TYPE_FOCUS\",\"TYPE_VAMPIRE\",\"TYPE_FATAL\",\"TYPE_VIOLENT\",\"TYPE_DESPAIR\",\"TYPE_DESPAIR\",\"TYPE_DESTROY\",\"IMMEMORIALE\",\"IMMEMORIALE\",\"TYPE_ENDURE\",\"TYPE_DESPAIR\",\"TYPE_DESTROY\",\"TYPE_DESTROY\",\"TYPE_VAMPIRE\",\"TYPE_VAMPIRE\",\"TYPE_ENERGY\",\"TYPE_DESTROY\",\"TYPE_ENERGY\",\"TYPE_ENDURE\",\"TYPE_ENERGY\",\"TYPE_VAMPIRE\",\"TYPE_VAMPIRE\",\"TYPE_NEMESIS\",\"TYPE_BLADE\",\"TYPE_BLADE\",\"TYPE_NEMESIS\",\"TYPE_ENDURE\",\"TYPE_NEMESIS\",\"TYPE_BLADE\",\"TYPE_BLADE\",\"TYPE_NEMESIS\",\"TYPE_BLADE\",\"TYPE_RAGE\",\"TYPE_ENERGY\",\"TYPE_ENDURE\",\"TYPE_NEMESIS\",\"TYPE_BLADE\",\"TYPE_ENDURE\",\"TYPE_BLADE\",\"TYPE_GUARD\",\"TYPE_DESTROY\",\"TYPE_DESTROY\",\"TYPE_VAMPIRE\",\"TYPE_GUARD\",\"TYPE_VAMPIRE\",\"TYPE_ENERGY\",\"TYPE_DESTROY\",\"TYPE_ENERGY\",\"TYPE_DESTROY\",\"TYPE_SHIELD\",\"TYPE_GUARD\",\"TYPE_DESTROY\",\"TYPE_VAMPIRE\",\"TYPE_GUARD\",\"TYPE_NEMESIS\",\"TYPE_WILL\",\"TYPE_GUARD\",\"TYPE_DESTROY\",\"TYPE_ENERGY\",\"TYPE_WILL\",\"TYPE_VAMPIRE\",\"TYPE_GUARD\",\"TYPE_ENERGY\",\"TYPE_GUARD\",\"TYPE_WILL\",\"TYPE_DESTROY\",\"TYPE_GUARD\",\"TYPE_GUARD\",\"TYPE_ENERGY\",\"TYPE_ENERGY\",\"TYPE_NEMESIS\",\"TYPE_DESTROY\",\"TYPE_WILL\",\"TYPE_DESTROY\",\"TYPE_GUARD\",\"TYPE_RAGE\",\"TYPE_DESPAIR\",\"TYPE_DESTROY\",\"TYPE_VAMPIRE\",\"TYPE_ENERGY\",\"TYPE_ENERGY\",\"TYPE_ENERGY\",\"TYPE_BLADE\",\"TYPE_ENDURE\",\"TYPE_ENERGY\",\"TYPE_ACCURACY\",\"TYPE_BLADE\",\"TYPE_BLADE\",\"TYPE_RAGE\",\"TYPE_ENDURE\",\"TYPE_RAGE\",\"TYPE_ENDURE\",\"TYPE_ENDURE\",\"TYPE_BLADE\",\"TYPE_ENERGY\",\"TYPE_ENDURE\",\"TYPE_BLADE\",\"TYPE_SHIELD\",\"TYPE_VAMPIRE\",\"TYPE_DESTROY\",\"TYPE_ENERGY\",\"TYPE_VAMPIRE\",\"TYPE_TOLERANCE\",\"TYPE_WILL\",\"TYPE_GUARD\",\"TYPE_GUARD\",\"TYPE_GUARD\",\"TYPE_ENERGY\",\"TYPE_DESTROY\",\"TYPE_DESTROY\",\"TYPE_GUARD\",\"TYPE_GUARD\",\"TYPE_VAMPIRE\",\"TYPE_GUARD\",\"TYPE_ENERGY\",\"TYPE_WILL\",\"TYPE_DESTROY\",\"TYPE_DESTROY\",\"TYPE_GUARD\",\"TYPE_WILL\",\"TYPE_VAMPIRE\",\"TYPE_WILL\"],\"xaxis\":\"x\",\"y\":[3,2,6,5,6,5,3,3,4,4,1,2,1,5,2,1,1,4,7,3,1,1,2,2,2,2,5,1,5,3,5,5,4,4,3,1,3,8,5,1,5,3,1,1,5,2,3,1,5,4,4,5,3,2,7,1,4,3,4,3,1,1,2,5,2,1,4,5,1,2,1,5,5,5,5,1,4,5,4,5,5,2,6,4,5,1,3,3,5,1,5,4,4,5,6,3,2,4,2,1,4,6,5,2,2,3,5,1,6,4,3,2,2,5,4,2,2,1,8,1,4,3,3,4,4,1,6,6,2,3,4,2,1,2,4,2,4,1,3,1,2,1,5,4,2,2,2,5,2,3,4,2,2,3,4,2,5,2,2,4,1,5,2,2,1,2,6,4,2,5,2,4,4,1,1,2,2,1,4,1,1,1,1,2,1,1,2,1,2,1,1,1,1,2,1,3,1,1,1,1,1,1,2,1,1,1,1,1,1,1,1,1,1,1,1,1,1,1,1,1,1,1,1,1,5,3,2,4,3,3,6,2,4,5,5,5,2,5,5,3,2,2,3,2,4,3,2,1,4,1,5,4,5,5,5,5,5,5,2,4,5,3,3,4,3,5,1,37,3,1,2,1,4,3,1,22,3,5,5,3,5,2,1,5,29,26,3,2,2,1,7,6,2,1,5,4,6,4,1,3,2,4,5,6,5,5,2,3,5,5,3,2,19,3,2,2,2,6,24,5,1,1,3,11,2,4,3,2,6,5,4,4,16,2,1,2,6,3,4,1,3,1,4,2,4,2,4,2,5,5,2,4,4,1,1,2,4,1,1,1,4,2,1,1,1,1,2,2,1,1,1,1,2,2,1,3,1,3,3,1,1,1,1,1,1,1,1,1,1,1,3,1,3,4,4,1,1,3,5,1,4,2,3,1,2,3,1,1,2,1,1,1,2,1,4,1,1,1,1,1,3,2,3,2,3,2,1,2,4,3,1,2,3,2,4,1,2,2,1,3,1,1,1,2,2,1,1,2,1,1,1,1,2,1,2,1,4,1,9,5,2,4,10,1,3,5,1,2,5,1,2,2,1,4,2,1,1,2,1,5,7,1,1,1,1,7,7,5,5,1,2,1,4,2,1,1,3,3,4,1,2,1,1],\"yaxis\":\"y\",\"type\":\"histogram\"}],                        {\"template\":{\"data\":{\"histogram2dcontour\":[{\"type\":\"histogram2dcontour\",\"colorbar\":{\"outlinewidth\":0,\"ticks\":\"\"},\"colorscale\":[[0.0,\"#0d0887\"],[0.1111111111111111,\"#46039f\"],[0.2222222222222222,\"#7201a8\"],[0.3333333333333333,\"#9c179e\"],[0.4444444444444444,\"#bd3786\"],[0.5555555555555556,\"#d8576b\"],[0.6666666666666666,\"#ed7953\"],[0.7777777777777778,\"#fb9f3a\"],[0.8888888888888888,\"#fdca26\"],[1.0,\"#f0f921\"]]}],\"choropleth\":[{\"type\":\"choropleth\",\"colorbar\":{\"outlinewidth\":0,\"ticks\":\"\"}}],\"histogram2d\":[{\"type\":\"histogram2d\",\"colorbar\":{\"outlinewidth\":0,\"ticks\":\"\"},\"colorscale\":[[0.0,\"#0d0887\"],[0.1111111111111111,\"#46039f\"],[0.2222222222222222,\"#7201a8\"],[0.3333333333333333,\"#9c179e\"],[0.4444444444444444,\"#bd3786\"],[0.5555555555555556,\"#d8576b\"],[0.6666666666666666,\"#ed7953\"],[0.7777777777777778,\"#fb9f3a\"],[0.8888888888888888,\"#fdca26\"],[1.0,\"#f0f921\"]]}],\"heatmap\":[{\"type\":\"heatmap\",\"colorbar\":{\"outlinewidth\":0,\"ticks\":\"\"},\"colorscale\":[[0.0,\"#0d0887\"],[0.1111111111111111,\"#46039f\"],[0.2222222222222222,\"#7201a8\"],[0.3333333333333333,\"#9c179e\"],[0.4444444444444444,\"#bd3786\"],[0.5555555555555556,\"#d8576b\"],[0.6666666666666666,\"#ed7953\"],[0.7777777777777778,\"#fb9f3a\"],[0.8888888888888888,\"#fdca26\"],[1.0,\"#f0f921\"]]}],\"heatmapgl\":[{\"type\":\"heatmapgl\",\"colorbar\":{\"outlinewidth\":0,\"ticks\":\"\"},\"colorscale\":[[0.0,\"#0d0887\"],[0.1111111111111111,\"#46039f\"],[0.2222222222222222,\"#7201a8\"],[0.3333333333333333,\"#9c179e\"],[0.4444444444444444,\"#bd3786\"],[0.5555555555555556,\"#d8576b\"],[0.6666666666666666,\"#ed7953\"],[0.7777777777777778,\"#fb9f3a\"],[0.8888888888888888,\"#fdca26\"],[1.0,\"#f0f921\"]]}],\"contourcarpet\":[{\"type\":\"contourcarpet\",\"colorbar\":{\"outlinewidth\":0,\"ticks\":\"\"}}],\"contour\":[{\"type\":\"contour\",\"colorbar\":{\"outlinewidth\":0,\"ticks\":\"\"},\"colorscale\":[[0.0,\"#0d0887\"],[0.1111111111111111,\"#46039f\"],[0.2222222222222222,\"#7201a8\"],[0.3333333333333333,\"#9c179e\"],[0.4444444444444444,\"#bd3786\"],[0.5555555555555556,\"#d8576b\"],[0.6666666666666666,\"#ed7953\"],[0.7777777777777778,\"#fb9f3a\"],[0.8888888888888888,\"#fdca26\"],[1.0,\"#f0f921\"]]}],\"surface\":[{\"type\":\"surface\",\"colorbar\":{\"outlinewidth\":0,\"ticks\":\"\"},\"colorscale\":[[0.0,\"#0d0887\"],[0.1111111111111111,\"#46039f\"],[0.2222222222222222,\"#7201a8\"],[0.3333333333333333,\"#9c179e\"],[0.4444444444444444,\"#bd3786\"],[0.5555555555555556,\"#d8576b\"],[0.6666666666666666,\"#ed7953\"],[0.7777777777777778,\"#fb9f3a\"],[0.8888888888888888,\"#fdca26\"],[1.0,\"#f0f921\"]]}],\"mesh3d\":[{\"type\":\"mesh3d\",\"colorbar\":{\"outlinewidth\":0,\"ticks\":\"\"}}],\"scatter\":[{\"fillpattern\":{\"fillmode\":\"overlay\",\"size\":10,\"solidity\":0.2},\"type\":\"scatter\"}],\"parcoords\":[{\"type\":\"parcoords\",\"line\":{\"colorbar\":{\"outlinewidth\":0,\"ticks\":\"\"}}}],\"scatterpolargl\":[{\"type\":\"scatterpolargl\",\"marker\":{\"colorbar\":{\"outlinewidth\":0,\"ticks\":\"\"}}}],\"bar\":[{\"error_x\":{\"color\":\"#2a3f5f\"},\"error_y\":{\"color\":\"#2a3f5f\"},\"marker\":{\"line\":{\"color\":\"#E5ECF6\",\"width\":0.5},\"pattern\":{\"fillmode\":\"overlay\",\"size\":10,\"solidity\":0.2}},\"type\":\"bar\"}],\"scattergeo\":[{\"type\":\"scattergeo\",\"marker\":{\"colorbar\":{\"outlinewidth\":0,\"ticks\":\"\"}}}],\"scatterpolar\":[{\"type\":\"scatterpolar\",\"marker\":{\"colorbar\":{\"outlinewidth\":0,\"ticks\":\"\"}}}],\"histogram\":[{\"marker\":{\"pattern\":{\"fillmode\":\"overlay\",\"size\":10,\"solidity\":0.2}},\"type\":\"histogram\"}],\"scattergl\":[{\"type\":\"scattergl\",\"marker\":{\"colorbar\":{\"outlinewidth\":0,\"ticks\":\"\"}}}],\"scatter3d\":[{\"type\":\"scatter3d\",\"line\":{\"colorbar\":{\"outlinewidth\":0,\"ticks\":\"\"}},\"marker\":{\"colorbar\":{\"outlinewidth\":0,\"ticks\":\"\"}}}],\"scattermapbox\":[{\"type\":\"scattermapbox\",\"marker\":{\"colorbar\":{\"outlinewidth\":0,\"ticks\":\"\"}}}],\"scatterternary\":[{\"type\":\"scatterternary\",\"marker\":{\"colorbar\":{\"outlinewidth\":0,\"ticks\":\"\"}}}],\"scattercarpet\":[{\"type\":\"scattercarpet\",\"marker\":{\"colorbar\":{\"outlinewidth\":0,\"ticks\":\"\"}}}],\"carpet\":[{\"aaxis\":{\"endlinecolor\":\"#2a3f5f\",\"gridcolor\":\"white\",\"linecolor\":\"white\",\"minorgridcolor\":\"white\",\"startlinecolor\":\"#2a3f5f\"},\"baxis\":{\"endlinecolor\":\"#2a3f5f\",\"gridcolor\":\"white\",\"linecolor\":\"white\",\"minorgridcolor\":\"white\",\"startlinecolor\":\"#2a3f5f\"},\"type\":\"carpet\"}],\"table\":[{\"cells\":{\"fill\":{\"color\":\"#EBF0F8\"},\"line\":{\"color\":\"white\"}},\"header\":{\"fill\":{\"color\":\"#C8D4E3\"},\"line\":{\"color\":\"white\"}},\"type\":\"table\"}],\"barpolar\":[{\"marker\":{\"line\":{\"color\":\"#E5ECF6\",\"width\":0.5},\"pattern\":{\"fillmode\":\"overlay\",\"size\":10,\"solidity\":0.2}},\"type\":\"barpolar\"}],\"pie\":[{\"automargin\":true,\"type\":\"pie\"}]},\"layout\":{\"autotypenumbers\":\"strict\",\"colorway\":[\"#636efa\",\"#EF553B\",\"#00cc96\",\"#ab63fa\",\"#FFA15A\",\"#19d3f3\",\"#FF6692\",\"#B6E880\",\"#FF97FF\",\"#FECB52\"],\"font\":{\"color\":\"#2a3f5f\"},\"hovermode\":\"closest\",\"hoverlabel\":{\"align\":\"left\"},\"paper_bgcolor\":\"white\",\"plot_bgcolor\":\"#E5ECF6\",\"polar\":{\"bgcolor\":\"#E5ECF6\",\"angularaxis\":{\"gridcolor\":\"white\",\"linecolor\":\"white\",\"ticks\":\"\"},\"radialaxis\":{\"gridcolor\":\"white\",\"linecolor\":\"white\",\"ticks\":\"\"}},\"ternary\":{\"bgcolor\":\"#E5ECF6\",\"aaxis\":{\"gridcolor\":\"white\",\"linecolor\":\"white\",\"ticks\":\"\"},\"baxis\":{\"gridcolor\":\"white\",\"linecolor\":\"white\",\"ticks\":\"\"},\"caxis\":{\"gridcolor\":\"white\",\"linecolor\":\"white\",\"ticks\":\"\"}},\"coloraxis\":{\"colorbar\":{\"outlinewidth\":0,\"ticks\":\"\"}},\"colorscale\":{\"sequential\":[[0.0,\"#0d0887\"],[0.1111111111111111,\"#46039f\"],[0.2222222222222222,\"#7201a8\"],[0.3333333333333333,\"#9c179e\"],[0.4444444444444444,\"#bd3786\"],[0.5555555555555556,\"#d8576b\"],[0.6666666666666666,\"#ed7953\"],[0.7777777777777778,\"#fb9f3a\"],[0.8888888888888888,\"#fdca26\"],[1.0,\"#f0f921\"]],\"sequentialminus\":[[0.0,\"#0d0887\"],[0.1111111111111111,\"#46039f\"],[0.2222222222222222,\"#7201a8\"],[0.3333333333333333,\"#9c179e\"],[0.4444444444444444,\"#bd3786\"],[0.5555555555555556,\"#d8576b\"],[0.6666666666666666,\"#ed7953\"],[0.7777777777777778,\"#fb9f3a\"],[0.8888888888888888,\"#fdca26\"],[1.0,\"#f0f921\"]],\"diverging\":[[0,\"#8e0152\"],[0.1,\"#c51b7d\"],[0.2,\"#de77ae\"],[0.3,\"#f1b6da\"],[0.4,\"#fde0ef\"],[0.5,\"#f7f7f7\"],[0.6,\"#e6f5d0\"],[0.7,\"#b8e186\"],[0.8,\"#7fbc41\"],[0.9,\"#4d9221\"],[1,\"#276419\"]]},\"xaxis\":{\"gridcolor\":\"white\",\"linecolor\":\"white\",\"ticks\":\"\",\"title\":{\"standoff\":15},\"zerolinecolor\":\"white\",\"automargin\":true,\"zerolinewidth\":2},\"yaxis\":{\"gridcolor\":\"white\",\"linecolor\":\"white\",\"ticks\":\"\",\"title\":{\"standoff\":15},\"zerolinecolor\":\"white\",\"automargin\":true,\"zerolinewidth\":2},\"scene\":{\"xaxis\":{\"backgroundcolor\":\"#E5ECF6\",\"gridcolor\":\"white\",\"linecolor\":\"white\",\"showbackground\":true,\"ticks\":\"\",\"zerolinecolor\":\"white\",\"gridwidth\":2},\"yaxis\":{\"backgroundcolor\":\"#E5ECF6\",\"gridcolor\":\"white\",\"linecolor\":\"white\",\"showbackground\":true,\"ticks\":\"\",\"zerolinecolor\":\"white\",\"gridwidth\":2},\"zaxis\":{\"backgroundcolor\":\"#E5ECF6\",\"gridcolor\":\"white\",\"linecolor\":\"white\",\"showbackground\":true,\"ticks\":\"\",\"zerolinecolor\":\"white\",\"gridwidth\":2}},\"shapedefaults\":{\"line\":{\"color\":\"#2a3f5f\"}},\"annotationdefaults\":{\"arrowcolor\":\"#2a3f5f\",\"arrowhead\":0,\"arrowwidth\":1},\"geo\":{\"bgcolor\":\"white\",\"landcolor\":\"#E5ECF6\",\"subunitcolor\":\"white\",\"showland\":true,\"showlakes\":true,\"lakecolor\":\"white\"},\"title\":{\"x\":0.05},\"mapbox\":{\"style\":\"light\"}}},\"xaxis\":{\"anchor\":\"y\",\"domain\":[0.0,1.0],\"title\":{\"text\":\"rune\"},\"categoryorder\":\"total descending\"},\"yaxis\":{\"anchor\":\"x\",\"domain\":[0.0,1.0],\"title\":{\"text\":\"sum of amount\"}},\"legend\":{\"tracegroupgap\":0},\"title\":{\"text\":\"Par type de rune\"},\"barmode\":\"relative\"},                        {\"responsive\": true}                    ).then(function(){\n",
       "                            \n",
       "var gd = document.getElementById('ad7225ca-6f7c-47a3-8e57-2736ef825546');\n",
       "var x = new MutationObserver(function (mutations, observer) {{\n",
       "        var display = window.getComputedStyle(gd).display;\n",
       "        if (!display || display === 'none') {{\n",
       "            console.log([gd, 'removed!']);\n",
       "            Plotly.purge(gd);\n",
       "            observer.disconnect();\n",
       "        }}\n",
       "}});\n",
       "\n",
       "// Listen for the removal of the full notebook cells\n",
       "var notebookContainer = gd.closest('#notebook-container');\n",
       "if (notebookContainer) {{\n",
       "    x.observe(notebookContainer, {childList: true});\n",
       "}}\n",
       "\n",
       "// Listen for the clearing of the current output cell\n",
       "var outputEl = gd.closest('.output');\n",
       "if (outputEl) {{\n",
       "    x.observe(outputEl, {childList: true});\n",
       "}}\n",
       "\n",
       "                        })                };                });            </script>        </div>"
      ]
     },
     "metadata": {},
     "output_type": "display_data"
    }
   ],
   "source": [
    "fig = px.histogram(df_combine, x=\"rune\", y=\"amount\", histfunc='sum', text_auto=True, title=\"Par type de rune\").update_xaxes(categoryorder=\"total descending\")\n",
    "fig.show()"
   ]
  },
  {
   "cell_type": "markdown",
   "id": "20f596f4",
   "metadata": {},
   "source": [
    "# Stats"
   ]
  },
  {
   "cell_type": "code",
   "execution_count": 78,
   "id": "e2b4bda2",
   "metadata": {},
   "outputs": [
    {
     "data": {
      "text/html": [
       "<div>                            <div id=\"53b1266b-6185-44b4-8bc3-62cebc444dcd\" class=\"plotly-graph-div\" style=\"height:525px; width:100%;\"></div>            <script type=\"text/javascript\">                require([\"plotly\"], function(Plotly) {                    window.PLOTLYENV=window.PLOTLYENV || {};                                    if (document.getElementById(\"53b1266b-6185-44b4-8bc3-62cebc444dcd\")) {                    Plotly.newPlot(                        \"53b1266b-6185-44b4-8bc3-62cebc444dcd\",                        [{\"domain\":{\"x\":[0.0,1.0],\"y\":[0.0,1.0]},\"hovertemplate\":\"type=%{label}<br>amount=%{value}<extra></extra>\",\"labels\":[\"Enchant_gem\",\"Enchant_gem\",\"Enchant_gem\",\"Enchant_gem\",\"Enchant_gem\",\"Enchant_gem\",\"Enchant_gem\",\"Enchant_gem\",\"Enchant_gem\",\"Enchant_gem\",\"Enchant_gem\",\"Enchant_gem\",\"Enchant_gem\",\"Enchant_gem\",\"Enchant_gem\",\"Enchant_gem\",\"Enchant_gem\",\"Enchant_gem\",\"Enchant_gem\",\"Enchant_gem\",\"Enchant_gem\",\"Enchant_gem\",\"Enchant_gem\",\"Enchant_gem\",\"Enchant_gem\",\"Enchant_gem\",\"Enchant_gem\",\"Enchant_gem\",\"Enchant_gem\",\"Enchant_gem\",\"Enchant_gem\",\"Enchant_gem\",\"Enchant_gem\",\"Enchant_gem\",\"Enchant_gem\",\"Enchant_gem\",\"Enchant_gem\",\"Enchant_gem\",\"Enchant_gem\",\"Enchant_gem\",\"Enchant_gem\",\"Enchant_gem\",\"Enchant_gem\",\"Enchant_gem\",\"Enchant_gem\",\"Enchant_gem\",\"Enchant_gem\",\"Enchant_gem\",\"Enchant_gem\",\"Enchant_gem\",\"Enchant_gem\",\"Enchant_gem\",\"Enchant_gem\",\"Enchant_gem\",\"Enchant_gem\",\"Enchant_gem\",\"Enchant_gem\",\"Enchant_gem\",\"Enchant_gem\",\"Enchant_gem\",\"Enchant_gem\",\"Enchant_gem\",\"Enchant_gem\",\"Enchant_gem\",\"Enchant_gem\",\"Enchant_gem\",\"Enchant_gem\",\"Enchant_gem\",\"Enchant_gem\",\"Enchant_gem\",\"Enchant_gem\",\"Enchant_gem\",\"Enchant_gem\",\"Enchant_gem\",\"Enchant_gem\",\"Enchant_gem\",\"Enchant_gem\",\"Enchant_gem\",\"Enchant_gem\",\"Enchant_gem\",\"Enchant_gem\",\"Enchant_gem\",\"Enchant_gem\",\"Enchant_gem\",\"Enchant_gem\",\"Enchant_gem\",\"Enchant_gem\",\"Enchant_gem\",\"Enchant_gem\",\"Enchant_gem\",\"Enchant_gem\",\"Enchant_gem\",\"Enchant_gem\",\"Enchant_gem\",\"Enchant_gem\",\"Enchant_gem\",\"Enchant_gem\",\"Enchant_gem\",\"Enchant_gem\",\"Enchant_gem\",\"Enchant_gem\",\"Enchant_gem\",\"Enchant_gem\",\"Enchant_gem\",\"Enchant_gem\",\"Enchant_gem\",\"Enchant_gem\",\"Enchant_gem\",\"Enchant_gem\",\"Enchant_gem\",\"Enchant_gem\",\"Enchant_gem\",\"Enchant_gem\",\"Enchant_gem\",\"Enchant_gem\",\"Enchant_gem\",\"Enchant_gem\",\"Enchant_gem\",\"Enchant_gem\",\"Enchant_gem\",\"Enchant_gem\",\"Enchant_gem\",\"Enchant_gem\",\"Enchant_gem\",\"Enchant_gem\",\"Enchant_gem\",\"Enchant_gem\",\"Enchant_gem\",\"Enchant_gem\",\"Enchant_gem\",\"Enchant_gem\",\"Enchant_gem\",\"Enchant_gem\",\"Enchant_gem\",\"Enchant_gem\",\"Enchant_gem\",\"Enchant_gem\",\"Enchant_gem\",\"Enchant_gem\",\"Enchant_gem\",\"Enchant_gem\",\"Enchant_gem\",\"Enchant_gem\",\"Enchant_gem\",\"Enchant_gem\",\"Enchant_gem\",\"Enchant_gem\",\"Enchant_gem\",\"Enchant_gem\",\"Enchant_gem\",\"Enchant_gem\",\"Enchant_gem\",\"Enchant_gem\",\"Enchant_gem\",\"Enchant_gem\",\"Enchant_gem\",\"Enchant_gem\",\"Enchant_gem\",\"Enchant_gem\",\"Enchant_gem\",\"Enchant_gem\",\"Enchant_gem\",\"Enchant_gem\",\"Enchant_gem\",\"Enchant_gem\",\"Enchant_gem\",\"Enchant_gem\",\"Enchant_gem\",\"Enchant_gem\",\"Enchant_gem\",\"Enchant_gem\",\"Enchant_gem\",\"Enchant_gem\",\"Enchant_gem\",\"Enchant_gem\",\"Enchant_gem\",\"Enchant_gem\",\"Enchant_gem\",\"Enchant_gem\",\"Enchant_gem\",\"Enchant_gem\",\"Enchant_gem\",\"Enchant_gem\",\"Enchant_gem\",\"Enchant_gem\",\"Enchant_gem\",\"Enchant_gem\",\"Enchant_gem\",\"Enchant_gem\",\"Enchant_gem\",\"Enchant_gem\",\"Enchant_gem\",\"Enchant_gem\",\"Enchant_gem\",\"Enchant_gem\",\"Enchant_gem\",\"Enchant_gem\",\"Enchant_gem\",\"Enchant_gem\",\"Enchant_gem\",\"Enchant_gem\",\"Enchant_gem\",\"Enchant_gem\",\"Enchant_gem\",\"Enchant_gem\",\"Enchant_gem\",\"Enchant_gem\",\"Enchant_gem\",\"Enchant_gem\",\"Enchant_gem\",\"Enchant_gem\",\"Enchant_gem\",\"Enchant_gem\",\"Enchant_gem\",\"Enchant_gem\",\"Enchant_gem\",\"Enchant_gem\",\"Enchant_gem\",\"Enchant_gem\",\"Enchant_gem\",\"Enchant_gem\",\"Enchant_gem\",\"Enchant_gem\",\"Enchant_gem\",\"Grindstone\",\"Grindstone\",\"Grindstone\",\"Grindstone\",\"Grindstone\",\"Grindstone\",\"Grindstone\",\"Grindstone\",\"Grindstone\",\"Grindstone\",\"Grindstone\",\"Grindstone\",\"Grindstone\",\"Grindstone\",\"Grindstone\",\"Grindstone\",\"Grindstone\",\"Grindstone\",\"Grindstone\",\"Grindstone\",\"Grindstone\",\"Grindstone\",\"Grindstone\",\"Grindstone\",\"Grindstone\",\"Grindstone\",\"Grindstone\",\"Grindstone\",\"Grindstone\",\"Grindstone\",\"Grindstone\",\"Grindstone\",\"Grindstone\",\"Grindstone\",\"Grindstone\",\"Grindstone\",\"Grindstone\",\"Grindstone\",\"Grindstone\",\"Grindstone\",\"Grindstone\",\"Grindstone\",\"Grindstone\",\"Grindstone\",\"Grindstone\",\"Grindstone\",\"Grindstone\",\"Grindstone\",\"Grindstone\",\"Grindstone\",\"Grindstone\",\"Grindstone\",\"Grindstone\",\"Grindstone\",\"Grindstone\",\"Grindstone\",\"Grindstone\",\"Grindstone\",\"Grindstone\",\"Grindstone\",\"Grindstone\",\"Grindstone\",\"Grindstone\",\"Grindstone\",\"Grindstone\",\"Grindstone\",\"Grindstone\",\"Grindstone\",\"Grindstone\",\"Grindstone\",\"Grindstone\",\"Grindstone\",\"Grindstone\",\"Grindstone\",\"Grindstone\",\"Grindstone\",\"Grindstone\",\"Grindstone\",\"Grindstone\",\"Grindstone\",\"Grindstone\",\"Grindstone\",\"Grindstone\",\"Grindstone\",\"Grindstone\",\"Grindstone\",\"Grindstone\",\"Grindstone\",\"Grindstone\",\"Grindstone\",\"Grindstone\",\"Grindstone\",\"Grindstone\",\"Grindstone\",\"Grindstone\",\"Grindstone\",\"Grindstone\",\"Grindstone\",\"Grindstone\",\"Grindstone\",\"Grindstone\",\"Grindstone\",\"Grindstone\",\"Grindstone\",\"Grindstone\",\"Grindstone\",\"Grindstone\",\"Grindstone\",\"Grindstone\",\"Grindstone\",\"Grindstone\",\"Grindstone\",\"Grindstone\",\"Grindstone\",\"Grindstone\",\"Grindstone\",\"Grindstone\",\"Grindstone\",\"Grindstone\",\"Grindstone\",\"Grindstone\",\"Grindstone\",\"Grindstone\",\"Grindstone\",\"Grindstone\",\"Grindstone\",\"Grindstone\",\"Grindstone\",\"Grindstone\",\"Grindstone\",\"Grindstone\",\"Grindstone\",\"Grindstone\",\"Grindstone\",\"Grindstone\",\"Grindstone\",\"Grindstone\",\"Grindstone\",\"Grindstone\",\"Grindstone\",\"Grindstone\",\"Grindstone\",\"Grindstone\",\"Grindstone\",\"Grindstone\",\"Grindstone\",\"Grindstone\",\"Grindstone\",\"Grindstone\",\"Grindstone\",\"Grindstone\",\"Grindstone\",\"Grindstone\",\"Grindstone\",\"Grindstone\",\"Grindstone\",\"Grindstone\",\"Grindstone\",\"Grindstone\",\"Grindstone\",\"Grindstone\",\"Grindstone\",\"Grindstone\",\"Grindstone\",\"Grindstone_immemoriale\",\"Grindstone_immemoriale\",\"Ancienne_gemme\",\"Ancienne_gemme\",\"Ancienne_gemme\",\"Ancienne_gemme\",\"Ancienne_gemme\",\"Ancienne_gemme\",\"Ancienne_gemme\",\"Ancienne_gemme\",\"Ancienne_gemme\",\"Ancienne_gemme\",\"Ancienne_gemme\",\"Ancienne_gemme\",\"Ancienne_gemme\",\"Ancienne_gemme\",\"Ancienne_gemme\",\"Ancienne_gemme\",\"Ancienne_gemme\",\"Ancienne_gemme\",\"Ancienne_gemme\",\"Ancienne_gemme\",\"Ancienne_gemme\",\"Ancienne_gemme\",\"Ancienne_gemme\",\"Ancienne_gemme\",\"Ancienne_gemme\",\"Ancienne_gemme\",\"Ancienne_gemme\",\"Ancienne_gemme\",\"Ancienne_gemme\",\"Ancienne_gemme\",\"Ancienne_gemme\",\"Ancienne_gemme\",\"Ancienne_gemme\",\"Ancienne_gemme\",\"Ancienne_gemme\",\"Ancienne_gemme\",\"Ancienne_gemme\",\"Ancienne_gemme\",\"Ancienne_gemme\",\"Ancienne_gemme\",\"Ancienne_gemme\",\"Ancienne_gemme\",\"Ancienne_gemme\",\"Ancienne_gemme\",\"Ancienne_gemme\",\"Ancienne_gemme\",\"Ancienne_gemme\",\"Ancienne_gemme\",\"Ancienne_gemme\",\"Ancienne_gemme\",\"Ancienne_gemme\",\"Ancienne_gemme\",\"Ancienne_gemme\",\"Ancienne_gemme\",\"Ancienne_gemme\",\"Ancienne_gemme\",\"Ancienne_gemme\",\"Ancienne_gemme\",\"Ancienne_gemme\",\"Ancienne_gemme\",\"Ancienne_gemme\",\"Ancienne_gemme\",\"Ancienne_gemme\",\"Ancienne_gemme\",\"Ancienne_gemme\",\"Ancienne_grindstone\",\"Ancienne_grindstone\",\"Ancienne_grindstone\",\"Ancienne_grindstone\",\"Ancienne_grindstone\",\"Ancienne_grindstone\",\"Ancienne_grindstone\",\"Ancienne_grindstone\",\"Ancienne_grindstone\",\"Ancienne_grindstone\",\"Ancienne_grindstone\",\"Ancienne_grindstone\",\"Ancienne_grindstone\",\"Ancienne_grindstone\",\"Ancienne_grindstone\",\"Ancienne_grindstone\",\"Ancienne_grindstone\",\"Ancienne_grindstone\",\"Ancienne_grindstone\",\"Ancienne_grindstone\",\"Ancienne_grindstone\",\"Ancienne_grindstone\",\"Ancienne_grindstone\",\"Ancienne_grindstone\",\"Ancienne_grindstone\",\"Ancienne_grindstone\",\"Ancienne_grindstone\",\"Ancienne_grindstone\",\"Ancienne_grindstone\",\"Ancienne_grindstone\",\"Ancienne_grindstone\",\"Ancienne_grindstone\",\"Ancienne_grindstone\",\"Ancienne_grindstone\",\"Ancienne_grindstone\",\"Ancienne_grindstone\",\"Ancienne_grindstone\",\"Ancienne_grindstone\",\"Ancienne_grindstone\",\"Ancienne_grindstone\",\"Ancienne_grindstone\",\"Ancienne_grindstone\",\"Ancienne_grindstone\",\"Ancienne_grindstone\",\"Ancienne_grindstone\",\"Ancienne_grindstone\",\"Ancienne_grindstone\",\"Ancienne_grindstone\"],\"legendgroup\":\"\",\"name\":\"\",\"showlegend\":true,\"values\":[3,2,6,5,6,5,3,3,4,4,1,2,1,5,2,1,1,4,7,3,1,1,2,2,2,2,5,1,5,3,5,5,4,4,3,1,3,8,5,1,5,3,1,1,5,2,3,1,5,4,4,5,3,2,7,1,4,3,4,3,1,1,2,5,2,1,4,5,1,2,1,5,5,5,5,1,4,5,4,5,5,2,6,4,5,1,3,3,5,1,5,4,4,5,6,3,2,4,2,1,4,6,5,2,2,3,5,1,6,4,3,2,2,5,4,2,2,1,8,1,4,3,3,4,4,1,6,6,2,3,4,2,1,2,4,2,4,1,3,1,2,1,5,4,2,2,2,5,2,3,4,2,2,3,4,2,5,2,2,4,1,5,2,2,1,2,6,4,2,5,2,4,4,1,1,2,2,1,4,1,1,1,1,2,1,1,2,1,2,1,1,1,1,2,1,3,1,1,1,1,1,1,2,1,1,1,1,1,1,1,1,1,1,1,1,1,1,1,1,1,1,1,1,1,5,3,2,4,3,3,6,2,4,5,5,5,2,5,5,3,2,2,3,2,4,3,2,1,4,1,5,4,5,5,5,5,5,5,2,4,5,3,3,4,3,5,1,37,3,1,2,1,4,3,1,22,3,5,5,3,5,2,1,5,29,26,3,2,2,1,7,6,2,1,5,4,6,4,1,3,2,4,5,6,5,5,2,3,5,5,3,2,19,3,2,2,2,6,24,5,1,1,3,11,2,4,3,2,6,5,4,4,16,2,1,2,6,3,4,1,3,1,4,2,4,2,4,2,5,5,2,4,4,1,1,2,4,1,1,1,4,2,1,1,1,1,2,2,1,1,1,1,2,2,1,3,1,3,3,1,1,1,1,1,1,1,1,1,1,1,3,1,3,4,4,1,1,3,5,1,4,2,3,1,2,3,1,1,2,1,1,1,2,1,4,1,1,1,1,1,3,2,3,2,3,2,1,2,4,3,1,2,3,2,4,1,2,2,1,3,1,1,1,2,2,1,1,2,1,1,1,1,2,1,2,1,4,1,9,5,2,4,10,1,3,5,1,2,5,1,2,2,1,4,2,1,1,2,1,5,7,1,1,1,1,7,7,5,5,1,2,1,4,2,1,1,3,3,4,1,2,1,1],\"type\":\"pie\"}],                        {\"template\":{\"data\":{\"histogram2dcontour\":[{\"type\":\"histogram2dcontour\",\"colorbar\":{\"outlinewidth\":0,\"ticks\":\"\"},\"colorscale\":[[0.0,\"#0d0887\"],[0.1111111111111111,\"#46039f\"],[0.2222222222222222,\"#7201a8\"],[0.3333333333333333,\"#9c179e\"],[0.4444444444444444,\"#bd3786\"],[0.5555555555555556,\"#d8576b\"],[0.6666666666666666,\"#ed7953\"],[0.7777777777777778,\"#fb9f3a\"],[0.8888888888888888,\"#fdca26\"],[1.0,\"#f0f921\"]]}],\"choropleth\":[{\"type\":\"choropleth\",\"colorbar\":{\"outlinewidth\":0,\"ticks\":\"\"}}],\"histogram2d\":[{\"type\":\"histogram2d\",\"colorbar\":{\"outlinewidth\":0,\"ticks\":\"\"},\"colorscale\":[[0.0,\"#0d0887\"],[0.1111111111111111,\"#46039f\"],[0.2222222222222222,\"#7201a8\"],[0.3333333333333333,\"#9c179e\"],[0.4444444444444444,\"#bd3786\"],[0.5555555555555556,\"#d8576b\"],[0.6666666666666666,\"#ed7953\"],[0.7777777777777778,\"#fb9f3a\"],[0.8888888888888888,\"#fdca26\"],[1.0,\"#f0f921\"]]}],\"heatmap\":[{\"type\":\"heatmap\",\"colorbar\":{\"outlinewidth\":0,\"ticks\":\"\"},\"colorscale\":[[0.0,\"#0d0887\"],[0.1111111111111111,\"#46039f\"],[0.2222222222222222,\"#7201a8\"],[0.3333333333333333,\"#9c179e\"],[0.4444444444444444,\"#bd3786\"],[0.5555555555555556,\"#d8576b\"],[0.6666666666666666,\"#ed7953\"],[0.7777777777777778,\"#fb9f3a\"],[0.8888888888888888,\"#fdca26\"],[1.0,\"#f0f921\"]]}],\"heatmapgl\":[{\"type\":\"heatmapgl\",\"colorbar\":{\"outlinewidth\":0,\"ticks\":\"\"},\"colorscale\":[[0.0,\"#0d0887\"],[0.1111111111111111,\"#46039f\"],[0.2222222222222222,\"#7201a8\"],[0.3333333333333333,\"#9c179e\"],[0.4444444444444444,\"#bd3786\"],[0.5555555555555556,\"#d8576b\"],[0.6666666666666666,\"#ed7953\"],[0.7777777777777778,\"#fb9f3a\"],[0.8888888888888888,\"#fdca26\"],[1.0,\"#f0f921\"]]}],\"contourcarpet\":[{\"type\":\"contourcarpet\",\"colorbar\":{\"outlinewidth\":0,\"ticks\":\"\"}}],\"contour\":[{\"type\":\"contour\",\"colorbar\":{\"outlinewidth\":0,\"ticks\":\"\"},\"colorscale\":[[0.0,\"#0d0887\"],[0.1111111111111111,\"#46039f\"],[0.2222222222222222,\"#7201a8\"],[0.3333333333333333,\"#9c179e\"],[0.4444444444444444,\"#bd3786\"],[0.5555555555555556,\"#d8576b\"],[0.6666666666666666,\"#ed7953\"],[0.7777777777777778,\"#fb9f3a\"],[0.8888888888888888,\"#fdca26\"],[1.0,\"#f0f921\"]]}],\"surface\":[{\"type\":\"surface\",\"colorbar\":{\"outlinewidth\":0,\"ticks\":\"\"},\"colorscale\":[[0.0,\"#0d0887\"],[0.1111111111111111,\"#46039f\"],[0.2222222222222222,\"#7201a8\"],[0.3333333333333333,\"#9c179e\"],[0.4444444444444444,\"#bd3786\"],[0.5555555555555556,\"#d8576b\"],[0.6666666666666666,\"#ed7953\"],[0.7777777777777778,\"#fb9f3a\"],[0.8888888888888888,\"#fdca26\"],[1.0,\"#f0f921\"]]}],\"mesh3d\":[{\"type\":\"mesh3d\",\"colorbar\":{\"outlinewidth\":0,\"ticks\":\"\"}}],\"scatter\":[{\"fillpattern\":{\"fillmode\":\"overlay\",\"size\":10,\"solidity\":0.2},\"type\":\"scatter\"}],\"parcoords\":[{\"type\":\"parcoords\",\"line\":{\"colorbar\":{\"outlinewidth\":0,\"ticks\":\"\"}}}],\"scatterpolargl\":[{\"type\":\"scatterpolargl\",\"marker\":{\"colorbar\":{\"outlinewidth\":0,\"ticks\":\"\"}}}],\"bar\":[{\"error_x\":{\"color\":\"#2a3f5f\"},\"error_y\":{\"color\":\"#2a3f5f\"},\"marker\":{\"line\":{\"color\":\"#E5ECF6\",\"width\":0.5},\"pattern\":{\"fillmode\":\"overlay\",\"size\":10,\"solidity\":0.2}},\"type\":\"bar\"}],\"scattergeo\":[{\"type\":\"scattergeo\",\"marker\":{\"colorbar\":{\"outlinewidth\":0,\"ticks\":\"\"}}}],\"scatterpolar\":[{\"type\":\"scatterpolar\",\"marker\":{\"colorbar\":{\"outlinewidth\":0,\"ticks\":\"\"}}}],\"histogram\":[{\"marker\":{\"pattern\":{\"fillmode\":\"overlay\",\"size\":10,\"solidity\":0.2}},\"type\":\"histogram\"}],\"scattergl\":[{\"type\":\"scattergl\",\"marker\":{\"colorbar\":{\"outlinewidth\":0,\"ticks\":\"\"}}}],\"scatter3d\":[{\"type\":\"scatter3d\",\"line\":{\"colorbar\":{\"outlinewidth\":0,\"ticks\":\"\"}},\"marker\":{\"colorbar\":{\"outlinewidth\":0,\"ticks\":\"\"}}}],\"scattermapbox\":[{\"type\":\"scattermapbox\",\"marker\":{\"colorbar\":{\"outlinewidth\":0,\"ticks\":\"\"}}}],\"scatterternary\":[{\"type\":\"scatterternary\",\"marker\":{\"colorbar\":{\"outlinewidth\":0,\"ticks\":\"\"}}}],\"scattercarpet\":[{\"type\":\"scattercarpet\",\"marker\":{\"colorbar\":{\"outlinewidth\":0,\"ticks\":\"\"}}}],\"carpet\":[{\"aaxis\":{\"endlinecolor\":\"#2a3f5f\",\"gridcolor\":\"white\",\"linecolor\":\"white\",\"minorgridcolor\":\"white\",\"startlinecolor\":\"#2a3f5f\"},\"baxis\":{\"endlinecolor\":\"#2a3f5f\",\"gridcolor\":\"white\",\"linecolor\":\"white\",\"minorgridcolor\":\"white\",\"startlinecolor\":\"#2a3f5f\"},\"type\":\"carpet\"}],\"table\":[{\"cells\":{\"fill\":{\"color\":\"#EBF0F8\"},\"line\":{\"color\":\"white\"}},\"header\":{\"fill\":{\"color\":\"#C8D4E3\"},\"line\":{\"color\":\"white\"}},\"type\":\"table\"}],\"barpolar\":[{\"marker\":{\"line\":{\"color\":\"#E5ECF6\",\"width\":0.5},\"pattern\":{\"fillmode\":\"overlay\",\"size\":10,\"solidity\":0.2}},\"type\":\"barpolar\"}],\"pie\":[{\"automargin\":true,\"type\":\"pie\"}]},\"layout\":{\"autotypenumbers\":\"strict\",\"colorway\":[\"#636efa\",\"#EF553B\",\"#00cc96\",\"#ab63fa\",\"#FFA15A\",\"#19d3f3\",\"#FF6692\",\"#B6E880\",\"#FF97FF\",\"#FECB52\"],\"font\":{\"color\":\"#2a3f5f\"},\"hovermode\":\"closest\",\"hoverlabel\":{\"align\":\"left\"},\"paper_bgcolor\":\"white\",\"plot_bgcolor\":\"#E5ECF6\",\"polar\":{\"bgcolor\":\"#E5ECF6\",\"angularaxis\":{\"gridcolor\":\"white\",\"linecolor\":\"white\",\"ticks\":\"\"},\"radialaxis\":{\"gridcolor\":\"white\",\"linecolor\":\"white\",\"ticks\":\"\"}},\"ternary\":{\"bgcolor\":\"#E5ECF6\",\"aaxis\":{\"gridcolor\":\"white\",\"linecolor\":\"white\",\"ticks\":\"\"},\"baxis\":{\"gridcolor\":\"white\",\"linecolor\":\"white\",\"ticks\":\"\"},\"caxis\":{\"gridcolor\":\"white\",\"linecolor\":\"white\",\"ticks\":\"\"}},\"coloraxis\":{\"colorbar\":{\"outlinewidth\":0,\"ticks\":\"\"}},\"colorscale\":{\"sequential\":[[0.0,\"#0d0887\"],[0.1111111111111111,\"#46039f\"],[0.2222222222222222,\"#7201a8\"],[0.3333333333333333,\"#9c179e\"],[0.4444444444444444,\"#bd3786\"],[0.5555555555555556,\"#d8576b\"],[0.6666666666666666,\"#ed7953\"],[0.7777777777777778,\"#fb9f3a\"],[0.8888888888888888,\"#fdca26\"],[1.0,\"#f0f921\"]],\"sequentialminus\":[[0.0,\"#0d0887\"],[0.1111111111111111,\"#46039f\"],[0.2222222222222222,\"#7201a8\"],[0.3333333333333333,\"#9c179e\"],[0.4444444444444444,\"#bd3786\"],[0.5555555555555556,\"#d8576b\"],[0.6666666666666666,\"#ed7953\"],[0.7777777777777778,\"#fb9f3a\"],[0.8888888888888888,\"#fdca26\"],[1.0,\"#f0f921\"]],\"diverging\":[[0,\"#8e0152\"],[0.1,\"#c51b7d\"],[0.2,\"#de77ae\"],[0.3,\"#f1b6da\"],[0.4,\"#fde0ef\"],[0.5,\"#f7f7f7\"],[0.6,\"#e6f5d0\"],[0.7,\"#b8e186\"],[0.8,\"#7fbc41\"],[0.9,\"#4d9221\"],[1,\"#276419\"]]},\"xaxis\":{\"gridcolor\":\"white\",\"linecolor\":\"white\",\"ticks\":\"\",\"title\":{\"standoff\":15},\"zerolinecolor\":\"white\",\"automargin\":true,\"zerolinewidth\":2},\"yaxis\":{\"gridcolor\":\"white\",\"linecolor\":\"white\",\"ticks\":\"\",\"title\":{\"standoff\":15},\"zerolinecolor\":\"white\",\"automargin\":true,\"zerolinewidth\":2},\"scene\":{\"xaxis\":{\"backgroundcolor\":\"#E5ECF6\",\"gridcolor\":\"white\",\"linecolor\":\"white\",\"showbackground\":true,\"ticks\":\"\",\"zerolinecolor\":\"white\",\"gridwidth\":2},\"yaxis\":{\"backgroundcolor\":\"#E5ECF6\",\"gridcolor\":\"white\",\"linecolor\":\"white\",\"showbackground\":true,\"ticks\":\"\",\"zerolinecolor\":\"white\",\"gridwidth\":2},\"zaxis\":{\"backgroundcolor\":\"#E5ECF6\",\"gridcolor\":\"white\",\"linecolor\":\"white\",\"showbackground\":true,\"ticks\":\"\",\"zerolinecolor\":\"white\",\"gridwidth\":2}},\"shapedefaults\":{\"line\":{\"color\":\"#2a3f5f\"}},\"annotationdefaults\":{\"arrowcolor\":\"#2a3f5f\",\"arrowhead\":0,\"arrowwidth\":1},\"geo\":{\"bgcolor\":\"white\",\"landcolor\":\"#E5ECF6\",\"subunitcolor\":\"white\",\"showland\":true,\"showlakes\":true,\"lakecolor\":\"white\"},\"title\":{\"x\":0.05},\"mapbox\":{\"style\":\"light\"}}},\"legend\":{\"tracegroupgap\":0},\"title\":{\"text\":\"Répartition inventaire\"}},                        {\"responsive\": true}                    ).then(function(){\n",
       "                            \n",
       "var gd = document.getElementById('53b1266b-6185-44b4-8bc3-62cebc444dcd');\n",
       "var x = new MutationObserver(function (mutations, observer) {{\n",
       "        var display = window.getComputedStyle(gd).display;\n",
       "        if (!display || display === 'none') {{\n",
       "            console.log([gd, 'removed!']);\n",
       "            Plotly.purge(gd);\n",
       "            observer.disconnect();\n",
       "        }}\n",
       "}});\n",
       "\n",
       "// Listen for the removal of the full notebook cells\n",
       "var notebookContainer = gd.closest('#notebook-container');\n",
       "if (notebookContainer) {{\n",
       "    x.observe(notebookContainer, {childList: true});\n",
       "}}\n",
       "\n",
       "// Listen for the clearing of the current output cell\n",
       "var outputEl = gd.closest('.output');\n",
       "if (outputEl) {{\n",
       "    x.observe(outputEl, {childList: true});\n",
       "}}\n",
       "\n",
       "                        })                };                });            </script>        </div>"
      ]
     },
     "metadata": {},
     "output_type": "display_data"
    }
   ],
   "source": [
    "fig = px.pie(df_combine, values=\"amount\", names=\"type\", title=\"Répartition inventaire\")\n",
    "fig.show()"
   ]
  }
 ],
 "metadata": {
  "kernelspec": {
   "display_name": "Python 3 (ipykernel)",
   "language": "python",
   "name": "python3"
  },
  "language_info": {
   "codemirror_mode": {
    "name": "ipython",
    "version": 3
   },
   "file_extension": ".py",
   "mimetype": "text/x-python",
   "name": "python",
   "nbconvert_exporter": "python",
   "pygments_lexer": "ipython3",
   "version": "3.10.4"
  },
  "toc": {
   "base_numbering": 1,
   "nav_menu": {},
   "number_sections": true,
   "sideBar": true,
   "skip_h1_title": false,
   "title_cell": "Table of Contents",
   "title_sidebar": "Contents",
   "toc_cell": false,
   "toc_position": {},
   "toc_section_display": true,
   "toc_window_display": true
  },
  "varInspector": {
   "cols": {
    "lenName": 16,
    "lenType": 16,
    "lenVar": 40
   },
   "kernels_config": {
    "python": {
     "delete_cmd_postfix": "",
     "delete_cmd_prefix": "del ",
     "library": "var_list.py",
     "varRefreshCmd": "print(var_dic_list())"
    },
    "r": {
     "delete_cmd_postfix": ") ",
     "delete_cmd_prefix": "rm(",
     "library": "var_list.r",
     "varRefreshCmd": "cat(var_dic_list()) "
    }
   },
   "types_to_exclude": [
    "module",
    "function",
    "builtin_function_or_method",
    "instance",
    "_Feature"
   ],
   "window_display": false
  }
 },
 "nbformat": 4,
 "nbformat_minor": 5
}
